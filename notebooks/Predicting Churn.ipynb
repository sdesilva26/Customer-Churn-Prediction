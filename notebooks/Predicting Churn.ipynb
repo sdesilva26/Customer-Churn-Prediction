{
 "cells": [
  {
   "cell_type": "markdown",
   "metadata": {},
   "source": [
    "# Feature Selection\n",
    "\n",
    "In the notebook \"Data Preprocessing\" I have cleaned up the data of missing values, dropped columns that had a large amount of missing values, and also created some features for the non-normally distributed categorical columns by grouping the most frequently occuring class into a new group and the rest into a set of smaller groups.\n",
    "\n",
    "After this process I am left with 243 columns. I am now going to try to select a smaller subset of these features."
   ]
  },
  {
   "cell_type": "code",
   "execution_count": 1,
   "metadata": {},
   "outputs": [],
   "source": [
    "import numpy as np\n",
    "import pandas as pd\n",
    "import matplotlib.pyplot as plt\n",
    "import seaborn as sns\n",
    "df_cleaned = pd.read_csv('../data/cleaned_datasets/df_cleaned_draft1.csv')"
   ]
  },
  {
   "cell_type": "code",
   "execution_count": 2,
   "metadata": {},
   "outputs": [
    {
     "name": "stdout",
     "output_type": "stream",
     "text": [
      "<class 'pandas.core.frame.DataFrame'>\n",
      "RangeIndex: 44461 entries, 0 to 44460\n",
      "Columns: 244 entries, Var6 to target\n",
      "dtypes: float64(243), int64(1)\n",
      "memory usage: 82.8 MB\n"
     ]
    }
   ],
   "source": [
    "df_cleaned.info()"
   ]
  },
  {
   "cell_type": "markdown",
   "metadata": {},
   "source": [
    "The first technique I am going to use is variable ranking. This is a process whereby you rank each feature according to some scoring metric S(feature), and then select the k top scoring variables to use in classification.\n",
    "\n",
    "This is a class of feature selection methods called **filter methods**. \n",
    "\n",
    "Another class of feature selection is called **embedded methods** whereby the subset selection is implicitly performed by the classification model itself. The two most common embedded methods of feature selection are lasso and ridge regression. \n",
    "\n",
    "A third class of subset selection is **wrapper methods**. In wrapper methods, similar to embedded methods, the model being trained is used to select the subset. However, in wrapper methods, the model's performance being trained is used to decide if more or less features should be included. Examples of this are forward and backward subset selection. These are generally vry expensive as a lot of models have to be trained to determine which feature should next be included/excluded. With 243 features I do not want to use wrapper methods."
   ]
  },
  {
   "cell_type": "markdown",
   "metadata": {},
   "source": [
    "***\n",
    "## Variable Ranking\n",
    "\n",
    "I am going to use Pearson's correlation as my ranking metric. I will make a list the column names going from most correlated to least correlated. Then later with the models I train the data on I can use cross-validation with differing numbers of fetaures to select the best subset of features"
   ]
  },
  {
   "cell_type": "code",
   "execution_count": 32,
   "metadata": {},
   "outputs": [
    {
     "data": {
      "text/html": [
       "<div>\n",
       "<style scoped>\n",
       "    .dataframe tbody tr th:only-of-type {\n",
       "        vertical-align: middle;\n",
       "    }\n",
       "\n",
       "    .dataframe tbody tr th {\n",
       "        vertical-align: top;\n",
       "    }\n",
       "\n",
       "    .dataframe thead th {\n",
       "        text-align: right;\n",
       "    }\n",
       "</style>\n",
       "<table border=\"1\" class=\"dataframe\">\n",
       "  <thead>\n",
       "    <tr style=\"text-align: right;\">\n",
       "      <th></th>\n",
       "      <th>Var6</th>\n",
       "      <th>Var7</th>\n",
       "      <th>Var13</th>\n",
       "      <th>Var22</th>\n",
       "      <th>Var24</th>\n",
       "      <th>Var25</th>\n",
       "      <th>Var28</th>\n",
       "      <th>Var35</th>\n",
       "      <th>Var38</th>\n",
       "      <th>Var44</th>\n",
       "      <th>...</th>\n",
       "      <th>x19_4</th>\n",
       "      <th>x19_5</th>\n",
       "      <th>x19_6</th>\n",
       "      <th>x19_7</th>\n",
       "      <th>x19_8</th>\n",
       "      <th>x19_9</th>\n",
       "      <th>x20_False</th>\n",
       "      <th>x20_True</th>\n",
       "      <th>Var225_encode</th>\n",
       "      <th>target</th>\n",
       "    </tr>\n",
       "  </thead>\n",
       "  <tbody>\n",
       "    <tr>\n",
       "      <th>0</th>\n",
       "      <td>0.011582</td>\n",
       "      <td>0.05</td>\n",
       "      <td>0.000930</td>\n",
       "      <td>0.012792</td>\n",
       "      <td>0.028340</td>\n",
       "      <td>0.009721</td>\n",
       "      <td>0.044674</td>\n",
       "      <td>0.0</td>\n",
       "      <td>0.000189</td>\n",
       "      <td>0.0</td>\n",
       "      <td>...</td>\n",
       "      <td>0.0</td>\n",
       "      <td>0.0</td>\n",
       "      <td>0.0</td>\n",
       "      <td>0.0</td>\n",
       "      <td>0.0</td>\n",
       "      <td>0.0</td>\n",
       "      <td>1.0</td>\n",
       "      <td>0.0</td>\n",
       "      <td>0.0</td>\n",
       "      <td>-1</td>\n",
       "    </tr>\n",
       "    <tr>\n",
       "      <th>1</th>\n",
       "      <td>0.003984</td>\n",
       "      <td>0.00</td>\n",
       "      <td>0.000000</td>\n",
       "      <td>0.004632</td>\n",
       "      <td>0.004049</td>\n",
       "      <td>0.001823</td>\n",
       "      <td>0.080453</td>\n",
       "      <td>0.0</td>\n",
       "      <td>0.252825</td>\n",
       "      <td>0.0</td>\n",
       "      <td>...</td>\n",
       "      <td>0.0</td>\n",
       "      <td>0.0</td>\n",
       "      <td>0.0</td>\n",
       "      <td>0.0</td>\n",
       "      <td>0.0</td>\n",
       "      <td>0.0</td>\n",
       "      <td>0.0</td>\n",
       "      <td>1.0</td>\n",
       "      <td>1.0</td>\n",
       "      <td>1</td>\n",
       "    </tr>\n",
       "    <tr>\n",
       "      <th>2</th>\n",
       "      <td>0.039739</td>\n",
       "      <td>0.05</td>\n",
       "      <td>0.004569</td>\n",
       "      <td>0.033414</td>\n",
       "      <td>0.052632</td>\n",
       "      <td>0.061968</td>\n",
       "      <td>0.054916</td>\n",
       "      <td>0.0</td>\n",
       "      <td>0.312194</td>\n",
       "      <td>0.0</td>\n",
       "      <td>...</td>\n",
       "      <td>1.0</td>\n",
       "      <td>0.0</td>\n",
       "      <td>0.0</td>\n",
       "      <td>0.0</td>\n",
       "      <td>0.0</td>\n",
       "      <td>0.0</td>\n",
       "      <td>1.0</td>\n",
       "      <td>0.0</td>\n",
       "      <td>1.0</td>\n",
       "      <td>-1</td>\n",
       "    </tr>\n",
       "    <tr>\n",
       "      <th>3</th>\n",
       "      <td>0.006535</td>\n",
       "      <td>0.00</td>\n",
       "      <td>0.000000</td>\n",
       "      <td>0.000000</td>\n",
       "      <td>0.004049</td>\n",
       "      <td>0.000000</td>\n",
       "      <td>0.017024</td>\n",
       "      <td>0.0</td>\n",
       "      <td>0.000000</td>\n",
       "      <td>0.0</td>\n",
       "      <td>...</td>\n",
       "      <td>0.0</td>\n",
       "      <td>0.0</td>\n",
       "      <td>0.0</td>\n",
       "      <td>0.0</td>\n",
       "      <td>0.0</td>\n",
       "      <td>0.0</td>\n",
       "      <td>0.0</td>\n",
       "      <td>1.0</td>\n",
       "      <td>1.0</td>\n",
       "      <td>-1</td>\n",
       "    </tr>\n",
       "    <tr>\n",
       "      <th>4</th>\n",
       "      <td>0.007810</td>\n",
       "      <td>0.05</td>\n",
       "      <td>0.016253</td>\n",
       "      <td>0.001764</td>\n",
       "      <td>0.008097</td>\n",
       "      <td>0.004860</td>\n",
       "      <td>0.051073</td>\n",
       "      <td>0.0</td>\n",
       "      <td>0.000000</td>\n",
       "      <td>0.0</td>\n",
       "      <td>...</td>\n",
       "      <td>0.0</td>\n",
       "      <td>0.0</td>\n",
       "      <td>0.0</td>\n",
       "      <td>0.0</td>\n",
       "      <td>0.0</td>\n",
       "      <td>0.0</td>\n",
       "      <td>1.0</td>\n",
       "      <td>0.0</td>\n",
       "      <td>1.0</td>\n",
       "      <td>-1</td>\n",
       "    </tr>\n",
       "  </tbody>\n",
       "</table>\n",
       "<p>5 rows × 244 columns</p>\n",
       "</div>"
      ],
      "text/plain": [
       "       Var6  Var7     Var13     Var22     Var24     Var25     Var28  Var35  \\\n",
       "0  0.011582  0.05  0.000930  0.012792  0.028340  0.009721  0.044674    0.0   \n",
       "1  0.003984  0.00  0.000000  0.004632  0.004049  0.001823  0.080453    0.0   \n",
       "2  0.039739  0.05  0.004569  0.033414  0.052632  0.061968  0.054916    0.0   \n",
       "3  0.006535  0.00  0.000000  0.000000  0.004049  0.000000  0.017024    0.0   \n",
       "4  0.007810  0.05  0.016253  0.001764  0.008097  0.004860  0.051073    0.0   \n",
       "\n",
       "      Var38  Var44  ...  x19_4  x19_5  x19_6  x19_7  x19_8  x19_9  x20_False  \\\n",
       "0  0.000189    0.0  ...    0.0    0.0    0.0    0.0    0.0    0.0        1.0   \n",
       "1  0.252825    0.0  ...    0.0    0.0    0.0    0.0    0.0    0.0        0.0   \n",
       "2  0.312194    0.0  ...    1.0    0.0    0.0    0.0    0.0    0.0        1.0   \n",
       "3  0.000000    0.0  ...    0.0    0.0    0.0    0.0    0.0    0.0        0.0   \n",
       "4  0.000000    0.0  ...    0.0    0.0    0.0    0.0    0.0    0.0        1.0   \n",
       "\n",
       "   x20_True  Var225_encode  target  \n",
       "0       0.0            0.0      -1  \n",
       "1       1.0            1.0       1  \n",
       "2       0.0            1.0      -1  \n",
       "3       1.0            1.0      -1  \n",
       "4       0.0            1.0      -1  \n",
       "\n",
       "[5 rows x 244 columns]"
      ]
     },
     "execution_count": 32,
     "metadata": {},
     "output_type": "execute_result"
    }
   ],
   "source": [
    "df_cleaned.head()"
   ]
  },
  {
   "cell_type": "markdown",
   "metadata": {},
   "source": [
    "First thing to notice is that 'x17_False' is NaN because it contains one single value (0). It must have been highly correlated with a column that was dropped in the preprocessing.\n",
    "\n",
    "Also, no feature has a correlation score more than 0.1. With 243 features this is not all that surprising. This doesn't mean that there is no predictive power in the data though."
   ]
  },
  {
   "cell_type": "code",
   "execution_count": 3,
   "metadata": {},
   "outputs": [
    {
     "data": {
      "text/plain": [
       "x17_False                       NaN\n",
       "target                     1.000000\n",
       "Var73                      0.089297\n",
       "x9_Missing                 0.087638\n",
       "x20_True                   0.082246\n",
       "                             ...   \n",
       "x13_3Cy4                   0.000216\n",
       "x12_LM8l689qOp             0.000213\n",
       "Var123                     0.000172\n",
       "x13_453m                   0.000116\n",
       "x15_0pzBWGkV3fbsGZN52DH    0.000101\n",
       "Name: target, Length: 244, dtype: float64"
      ]
     },
     "execution_count": 3,
     "metadata": {},
     "output_type": "execute_result"
    }
   ],
   "source": [
    "ranked_features = np.abs(df_cleaned.corr()['target']).sort_values()[::-1]\n",
    "\n",
    "ranked_features"
   ]
  },
  {
   "cell_type": "code",
   "execution_count": 4,
   "metadata": {},
   "outputs": [
    {
     "data": {
      "text/plain": [
       "0.0    44461\n",
       "Name: x17_False, dtype: int64"
      ]
     },
     "execution_count": 4,
     "metadata": {},
     "output_type": "execute_result"
    }
   ],
   "source": [
    "df_cleaned['x17_False'].value_counts()"
   ]
  },
  {
   "cell_type": "code",
   "execution_count": 5,
   "metadata": {},
   "outputs": [
    {
     "data": {
      "text/plain": [
       "Index(['target', 'Var73', 'x9_Missing', 'x20_True', 'x20_False', 'Var189',\n",
       "       'x15_F2FyR07IdsN7I', 'x3_sJzTlal', 'Var7', 'x5_me75fM6ugJ',\n",
       "       ...\n",
       "       'x13_xb3V', 'Var181', 'Var83', 'x5_GjJ35utlTa_GNSvxxpb9ju', 'x4_sYC_',\n",
       "       'x13_3Cy4', 'x12_LM8l689qOp', 'Var123', 'x13_453m',\n",
       "       'x15_0pzBWGkV3fbsGZN52DH'],\n",
       "      dtype='object', length=243)"
      ]
     },
     "execution_count": 5,
     "metadata": {},
     "output_type": "execute_result"
    }
   ],
   "source": [
    "ranked_feature_names = ranked_features.index\n",
    "ranked_feature_names = ranked_feature_names.drop(['x17_False'], errors='ignore')\n",
    "ranked_feature_names"
   ]
  },
  {
   "cell_type": "markdown",
   "metadata": {},
   "source": [
    "***\n",
    "# Imbalanced Classes\n",
    "The other thing I need to deal with before performing any classifications is the imbalance of the two target variables.\n",
    "\n",
    "Over 90% of the observations belong to class -1 which I guess is customers who did not churn. So we do not have many occurances of observations where customers did churn.\n",
    "\n",
    "There are various ways to deal with imbalanced data. The simpliest is over- or under sampling the data. With only a few tens of thousands of datapoints it is probably best to oversample the minority class.\n",
    "\n",
    "Another method, which requires no work at this stage is to carefully consider what performance metric I use. In this case of imbalanced classes, using accuracy would be dangerous as the null model that just classifies all customers to the majority class will achieve an accuracy of 90%. Instead using ROC curves, and more specifically the area under the curve (AUC) would allow us to see the performance of a model over the full range of threshold values.\n",
    "\n",
    "I will try both of these methods. So here I generate a new over-sampled dataset."
   ]
  },
  {
   "cell_type": "code",
   "execution_count": 59,
   "metadata": {},
   "outputs": [
    {
     "data": {
      "text/plain": [
       "(array([41081.,  3380.]), array([-1.,  0.,  1.]), <a list of 2 Patch objects>)"
      ]
     },
     "execution_count": 59,
     "metadata": {},
     "output_type": "execute_result"
    },
    {
     "data": {
      "image/png": "[encoded data removed]",
      "text/plain": [
       "<Figure size 432x288 with 1 Axes>"
      ]
     },
     "metadata": {
      "needs_background": "light"
     },
     "output_type": "display_data"
    }
   ],
   "source": [
    "plt.hist(df_cleaned['target'], bins=2)"
   ]
  },
  {
   "cell_type": "code",
   "execution_count": 7,
   "metadata": {},
   "outputs": [
    {
     "data": {
      "text/plain": [
       "0.9239783180765165"
      ]
     },
     "execution_count": 7,
     "metadata": {},
     "output_type": "execute_result"
    }
   ],
   "source": [
    "41081/(41081+3380)"
   ]
  },
  {
   "cell_type": "code",
   "execution_count": 23,
   "metadata": {},
   "outputs": [
    {
     "data": {
      "text/plain": [
       "-1    41081\n",
       " 1    41081\n",
       "Name: target, dtype: int64"
      ]
     },
     "execution_count": 23,
     "metadata": {},
     "output_type": "execute_result"
    }
   ],
   "source": [
    "X_cleaned = df_cleaned.drop(['target', 'x17_False'], axis=1)\n",
    "y_cleaned = df_cleaned['target']\n"
   ]
  },
  {
   "cell_type": "markdown",
   "metadata": {},
   "source": [
    "Create training and test sets and then oversample the training sets"
   ]
  },
  {
   "cell_type": "code",
   "execution_count": 173,
   "metadata": {},
   "outputs": [
    {
     "data": {
      "text/plain": [
       "-1    41081\n",
       " 1    41081\n",
       "Name: target, dtype: int64"
      ]
     },
     "execution_count": 173,
     "metadata": {},
     "output_type": "execute_result"
    }
   ],
   "source": [
    "from sklearn.model_selection import train_test_split\n",
    "from imblearn.over_sampling import RandomOverSampler\n",
    "\n",
    "X_train, X_test, y_train, y_test = train_test_split(X_cleaned, y_cleaned, test_size=0.33)\n",
    "\n",
    "ros = RandomOverSampler()\n",
    "X_train_resampled, y_train_resampled = ros.fit_resample(X_train, y_train)\n",
    "\n",
    "y_resampled.value_counts()"
   ]
  },
  {
   "cell_type": "markdown",
   "metadata": {},
   "source": [
    "***\n",
    "# Metrics\n",
    "This is a note on metrics for classification.\n",
    "\n",
    "### accuracy\n",
    "$accuracy = \\frac{TP + TN}{TP + TN+ FN + FP}$ = what fraction of the examples did the model correctly classify. This is global, i.e. calculated across all classes.\n",
    "\n",
    "### precision\n",
    "$precision = \\frac{TP}{TP + FP}$ = what fraction of the examples that the model classified as true are actually true. This is class specific.\n",
    "\n",
    "### recall (sensitivity)\n",
    "$recall = \\frac{TP}{TP + FN} =  \\frac{TP}{N_p}$ = what fraction of the examples that are actually true did that model classify as true. This is class specific.\n",
    "\n",
    "### sensitivity (positive prediction power)\n",
    "sensitivity = $\\frac{TP}{TP + FN} = \\frac{TP}{N_p}$ same as above, the fraction of correctly identified positive cases out of all positive cases $N_p$.\n",
    "\n",
    "### specificity (negative prediction power)\n",
    "specificity = $\\frac{TN}{TN + FP} = \\frac{TN}{N_n}$ the negative class counterpart to sensitivity, the fraction of correctly identified negative cases out of all negative cases $N_n$.\n",
    "\n",
    "### true positive rate\n",
    "TPR = $\\frac{TP}{TP + FN} = \\frac{TP}{N_p}$ = as the name suggests, the rate at which a TP is predicted for each positive class actually present, $N_p$. For example, if TPR = 0.5, that means for every 2 positive classes in the dataset, the model will correctly predict 1 of them.\n",
    "\n",
    "### false positive rate\n",
    "FPR = $\\frac{FP}{FP + TN} = \\frac{FP}{N_n}$ = as the name suggests, the rate at which a FP is predicted for each negative class actually present, $N_n$. For example, if FPR = 0.3, that means for every 3 negative classes in the dataset, the model will correctly predict 1 of them as positive.\n",
    "\n",
    "### F1\n",
    "Is defined as the *weighted-harmonic mean of the precision and recall*\n",
    "$F1 = 2\\frac{precision \\times recall}{precision + recall}$ = a measure of the accuracy of the model\n",
    "\n",
    "The F score reaches the best value, meaning perfect precision and recall, at a value of 1. The worst F score, which means lowest precision and lowest recall, would be a value of 0. \n",
    "\n",
    "The F score is used to measure a test’s accuracy, and it balances the use of precision and recall to do it. The F score can provide a more realistic measure of a test’s performance by using both precision and recall.\n",
    "\n",
    "### suppport\n",
    "is the # of occurances of each class in y_true.\n",
    "\n",
    "In other words, if 'class 1' in y_true occured 3000 times, the support is 3000 for that class.\n",
    "\n",
    "classification_report also publishes 'macro' and 'weighted' version of the metrics above. My understanding is,\n",
    "\n",
    "### macro\n",
    "macro avg. = Calculate metrics for each label, and find their *unweighted* mean. \n",
    "\n",
    "This does not take label imbalance into account. So it just sums the class specific metrics and divides by the number of classes. For instance if there is i classes and we wanted the 'macro' average of precision\n",
    "\n",
    "macro avg. precision = $\\frac{\\sum_i precision_i}{i}$\n",
    "\n",
    "### weighted\n",
    "weighted avg. = Calculate metrics for each label, and find their mean *weighted by support* (the number of true instances for each label). \n",
    "\n",
    "This alters ‘macro’ to account for label imbalance; it can result in an F-score that is not between precision and recall. For instance, if there is i classes and we wanted the 'weighted' average of precision\n",
    "\n",
    "weighted avg. precision = $\\frac{\\sum_i precision_i*support_i}{\\sum support_i} = \\frac{\\sum_i precision_i*support_i}{N_{tot}}$\n",
    "where N_tot is the total number of examples.\n",
    "***\n",
    "## Which metric?\n",
    "So which metric should we be optimising here? From some reading around there seems to be two common AUC metrics that are used to compare models across a the full range of threshold values so that you can say one model is generally better than another:\n",
    "1. AUC ROC curve which is a plot of TPR against FPR\n",
    "2. AUC of the plot of precision against recall\n",
    "\n",
    "The advice seems to be that AUC of the precision vs recall graph should be used when you have high imbalance in the dataset, which is indeed the case we have. As stated in [[1]](http://www.blogspot.udec.ugto.saedsayad.com/docs/ROC101.pdf)\n",
    "\n",
    "\"*If the proportion of positive to negative instances changes in a test set, the ROC curves will not change. Metrics such as accuracy, precision, lift and F scores use values from both columns of the confusion matrix. As a class distribution changes these measures will change as well, even if the fundamental classifier performance does not. ROC graphs are based upon TP rate and FP rate, in which each dimension is a strict columnar ratio, so do not depend on class distributions.*\"\n",
    "\n",
    "Interestingly though, from checking the competition report from the [KDD CUP 2009](http://www.vincentlemaire-labs.fr/publis/jmlrwcp_2009_camera_ready.pdf) they use the ROC AUC to compare competition submissions. Because of this I will use ROC too so I can directly compare with what results they state in the write up. From the report,\n",
    "\n",
    "\"*The participants were asked to provide a score (a discriminant value or a posterior probability P(Y = 1|X)), and they were judged by the area under the ROC curve (AUC). The AUC is the area under the curve plotting sensitivity vs. (1− specificity) when the threshold θ is varied (or equivalently the area under the curve plotting sensitivity vs. specificity). We call “sensitivity” the error rate of the positive class and “specificity” the error rate\n",
    "of the negative class. The AUC is a standard metric in classification*\""
   ]
  },
  {
   "cell_type": "markdown",
   "metadata": {},
   "source": [
    "***\n",
    "***\n",
    "# Logistic Regression\n",
    "\n",
    "## Base performance\n",
    "Okay, I now have a list of the most correlated variables that I can use. First let's perform logistic regression with all features included to set some kind of baseline performance.\n",
    "\n",
    "To get this LogisticRegression model to fit without any penalisation I had to increase the 'tol' value. This controls the level at which the logistic regression model will stop trying to fit the data. The higher the value, the less accurately the model has to fit to be deemed acceptable and stop fitting."
   ]
  },
  {
   "cell_type": "code",
   "execution_count": 331,
   "metadata": {},
   "outputs": [],
   "source": [
    "from sklearn.linear_model import LogisticRegression, LogisticRegressionCV\n",
    "from sklearn.metrics import roc_auc_score, auc, plot_roc_curve"
   ]
  },
  {
   "cell_type": "code",
   "execution_count": 332,
   "metadata": {},
   "outputs": [],
   "source": [
    "lr = LogisticRegression(penalty='none', max_iter=200, solver='newton-cg', tol=5e-3)"
   ]
  },
  {
   "cell_type": "code",
   "execution_count": 333,
   "metadata": {},
   "outputs": [],
   "source": [
    "y_score = lr.fit(X_train, y_train).predict_proba(X_test)"
   ]
  },
  {
   "cell_type": "markdown",
   "metadata": {},
   "source": [
    "The graph shows that this base model is better than random with an AUC score of 0.68. But from looking at the classification report the recall score for class 1 (customer's who churned) is 0.01. The model essentially misses 99% of people who churn. Furthermore, even for the people it predicts churns, it only gets 50% of those correct.\n",
    "\n",
    "With the high dimensionality and the imbalanced classes in the dataset, this is not a surprise but gives me a good starting point which to compare other results to"
   ]
  },
  {
   "cell_type": "code",
   "execution_count": 334,
   "metadata": {},
   "outputs": [
    {
     "data": {
      "text/plain": [
       "{'lr_base': 0.6830897864587152}"
      ]
     },
     "execution_count": 334,
     "metadata": {},
     "output_type": "execute_result"
    }
   ],
   "source": [
    "auc_dict = dict()\n",
    "auc_dict['lr_base'] = roc_auc_score(y_test, y_score[:, 1])\n",
    "auc_dict"
   ]
  },
  {
   "cell_type": "code",
   "execution_count": 335,
   "metadata": {},
   "outputs": [
    {
     "data": {
      "image/png": "[encoded data removed]",
      "text/plain": [
       "<Figure size 720x576 with 1 Axes>"
      ]
     },
     "metadata": {
      "needs_background": "light"
     },
     "output_type": "display_data"
    }
   ],
   "source": [
    "fig, ax = plt.subplots(figsize=(10,8))\n",
    "plot = plot_roc_curve(lr, X_test, y_test, ax=ax, name=\"LR_base\")\n",
    "plt.grid(which='both')\n",
    "plt.show()"
   ]
  },
  {
   "cell_type": "markdown",
   "metadata": {},
   "source": [
    "## L1 Regularisation\n",
    "\n",
    "L1 regularisation is actually a form of feature selection as it shrinks some coefficients down to zero, where as L2 regularisation only shrinks coefficient towards zero asymptotically. Let's see if using L1 regularisation helps."
   ]
  },
  {
   "cell_type": "code",
   "execution_count": 336,
   "metadata": {},
   "outputs": [],
   "source": [
    "lr_l1 = LogisticRegression(penalty='l1', max_iter=200, solver='liblinear')"
   ]
  },
  {
   "cell_type": "code",
   "execution_count": 337,
   "metadata": {},
   "outputs": [],
   "source": [
    "y_score = lr_l1.fit(X_train, y_train).predict_proba(X_test)"
   ]
  },
  {
   "cell_type": "markdown",
   "metadata": {},
   "source": [
    "Adding L1 regularisation has not helped much. From the count below I can see that as expected the L1 regularisation has reduced the coefficient of many of the features to 0. Out of 243 features there is only 125 non-zero coefficient from the logistic regression fit. However the AUC is still 0.68."
   ]
  },
  {
   "cell_type": "code",
   "execution_count": 208,
   "metadata": {},
   "outputs": [
    {
     "data": {
      "text/plain": [
       "125"
      ]
     },
     "execution_count": 208,
     "metadata": {},
     "output_type": "execute_result"
    }
   ],
   "source": [
    "np.count_nonzero(lr_l1.coef_[0])"
   ]
  },
  {
   "cell_type": "code",
   "execution_count": 338,
   "metadata": {},
   "outputs": [
    {
     "data": {
      "text/plain": [
       "{'lr_base': 0.6830897864587152, 'lr_l1': 0.6834516385090893}"
      ]
     },
     "execution_count": 338,
     "metadata": {},
     "output_type": "execute_result"
    }
   ],
   "source": [
    "auc_dict['lr_l1'] = roc_auc_score(y_test, y_score[:, 1])\n",
    "auc_dict"
   ]
  },
  {
   "cell_type": "code",
   "execution_count": 339,
   "metadata": {},
   "outputs": [
    {
     "data": {
      "image/png": "[encoded data removed]",
      "text/plain": [
       "<Figure size 720x576 with 1 Axes>"
      ]
     },
     "metadata": {
      "needs_background": "light"
     },
     "output_type": "display_data"
    }
   ],
   "source": [
    "fig, ax = plt.subplots(figsize=(10,8))\n",
    "plot2 = plot_roc_curve(lr_l1, X_test, y_test, ax=ax, name=\"LR_l1\")\n",
    "plot.plot(ax=ax)\n",
    "plt.grid(which='both')\n",
    "plt.show()"
   ]
  },
  {
   "cell_type": "markdown",
   "metadata": {},
   "source": [
    "## L1 Regularisation + Balanced Classes\n",
    "Now I am going to try to give the model a better chance at correctly identifying churners. It seems like in the previous two models there simply isnt enough examples of churners so let's try using the over-sampled dataset I created."
   ]
  },
  {
   "cell_type": "code",
   "execution_count": 340,
   "metadata": {},
   "outputs": [],
   "source": [
    "lr_l1_bal = LogisticRegression(penalty='l1', max_iter=200, solver='liblinear')"
   ]
  },
  {
   "cell_type": "markdown",
   "metadata": {},
   "source": [
    "Note here that I use the over-sampled dataset for training but the test set for evaluation"
   ]
  },
  {
   "cell_type": "code",
   "execution_count": 341,
   "metadata": {},
   "outputs": [],
   "source": [
    "y_score_resampled = lr_l1_bal.fit(X_train_resampled, y_train_resampled).predict_proba(X_test)"
   ]
  },
  {
   "cell_type": "markdown",
   "metadata": {},
   "source": [
    "Doesn't seem like this has helped at all. Maybe even with 125 features, the model still has too many features to pick out any pattern in the data"
   ]
  },
  {
   "cell_type": "code",
   "execution_count": 342,
   "metadata": {},
   "outputs": [
    {
     "data": {
      "text/plain": [
       "{'lr_base': 0.6830897864587152,\n",
       " 'lr_l1': 0.6834516385090893,\n",
       " 'lr_l1_bal': 0.6818696449199652}"
      ]
     },
     "execution_count": 342,
     "metadata": {},
     "output_type": "execute_result"
    }
   ],
   "source": [
    "auc_dict['lr_l1_bal'] = roc_auc_score(y_test, y_score_resampled[:,1])\n",
    "auc_dict"
   ]
  },
  {
   "cell_type": "code",
   "execution_count": 343,
   "metadata": {},
   "outputs": [
    {
     "data": {
      "image/png": "[encoded data removed]",
      "text/plain": [
       "<Figure size 720x576 with 1 Axes>"
      ]
     },
     "metadata": {
      "needs_background": "light"
     },
     "output_type": "display_data"
    }
   ],
   "source": [
    "fig, ax = plt.subplots(figsize=(10,8))\n",
    "plot3 = plot_roc_curve(lr_l1_bal, X_test, y_test, ax=ax, name=\"LR_l1_bal\")\n",
    "plot.plot(ax=ax)\n",
    "plot2.plot(ax=ax)\n",
    "plt.grid(which='both')\n",
    "plt.show()"
   ]
  },
  {
   "cell_type": "markdown",
   "metadata": {},
   "source": [
    "## L1 Regularisation + Balanced Classes + Variable Ranking\n",
    "Now I am going to try using only the top 20 features as determined by my varibale ranking section from earlier. Then split that dataset into a training and test set, oversample the training set, and finally fit a logistic regression model with an L1 regularisation. This should produce a highly dimensionally reduced model"
   ]
  },
  {
   "cell_type": "code",
   "execution_count": 344,
   "metadata": {},
   "outputs": [
    {
     "data": {
      "text/plain": [
       "-1    41081\n",
       " 1    41081\n",
       "Name: target, dtype: int64"
      ]
     },
     "execution_count": 344,
     "metadata": {},
     "output_type": "execute_result"
    }
   ],
   "source": [
    "from sklearn.model_selection import train_test_split\n",
    "from imblearn.over_sampling import RandomOverSampler\n",
    "\n",
    "X_train, X_test, y_train, y_test = train_test_split(X_cleaned[ranked_feature_names[1:22]], y_cleaned, test_size=0.33)\n",
    "\n",
    "ros = RandomOverSampler()\n",
    "X_train_resampled, y_train_resampled = ros.fit_resample(X_train, y_train)\n",
    "\n",
    "y_resampled.value_counts()"
   ]
  },
  {
   "cell_type": "code",
   "execution_count": 345,
   "metadata": {},
   "outputs": [],
   "source": [
    "lr_l1_bal_ranked = LogisticRegression(penalty='l1', max_iter=200, solver='liblinear')"
   ]
  },
  {
   "cell_type": "code",
   "execution_count": 346,
   "metadata": {},
   "outputs": [],
   "source": [
    "y_score_resampled = lr_l1_bal_ranked.fit(X_train_resampled, y_train_resampled).predict_proba(X_test)"
   ]
  },
  {
   "cell_type": "markdown",
   "metadata": {},
   "source": [
    "Again, the variable ranking has not helped to increase the ROC. This shows the importance of not taking correlation values too seriously. Even though a variable may have a low correlation value does not mean it does not have any predictive power."
   ]
  },
  {
   "cell_type": "code",
   "execution_count": 347,
   "metadata": {},
   "outputs": [
    {
     "data": {
      "text/plain": [
       "{'lr_base': 0.6830897864587152,\n",
       " 'lr_l1': 0.6834516385090893,\n",
       " 'lr_l1_bal': 0.6818696449199652,\n",
       " 'lr_l1_bal_ranked': 0.6784641983773252}"
      ]
     },
     "execution_count": 347,
     "metadata": {},
     "output_type": "execute_result"
    }
   ],
   "source": [
    "auc_dict['lr_l1_bal_ranked'] = roc_auc_score(y_test, y_score_resampled[:,1])\n",
    "auc_dict"
   ]
  },
  {
   "cell_type": "code",
   "execution_count": 348,
   "metadata": {},
   "outputs": [
    {
     "data": {
      "image/png": "[encoded data removed]",
      "text/plain": [
       "<Figure size 720x576 with 1 Axes>"
      ]
     },
     "metadata": {
      "needs_background": "light"
     },
     "output_type": "display_data"
    }
   ],
   "source": [
    "fig, ax = plt.subplots(figsize=(10,8))\n",
    "plot4 = plot_roc_curve(lr_l1_bal_ranked, X_test, y_test, ax=ax, name=\"LR_l1_bal_ranked\")\n",
    "plot.plot(ax=ax)\n",
    "plot2.plot(ax=ax)\n",
    "plot3.plot(ax=ax)\n",
    "plt.grid(which='both')\n",
    "plt.show()"
   ]
  },
  {
   "cell_type": "markdown",
   "metadata": {},
   "source": [
    "## Further feature selection + L2 Regularisation + Balanced Classed \n",
    "Let me try a more rigorous feature selection using recursive feature elimination (wrapper feature selection technique) with cross validation followed by a LR model with an L2 penalty and balanced classes. I use L2 since this more indepth feature selection will already have selected the most useful features and so I do not need to shrink the coefficient of the features down to exactly zero.\n",
    "\n",
    "I will use ROC AUC to determine the best subset of features."
   ]
  },
  {
   "cell_type": "code",
   "execution_count": 278,
   "metadata": {},
   "outputs": [],
   "source": [
    "from sklearn.feature_selection import RFECV"
   ]
  },
  {
   "cell_type": "code",
   "execution_count": 284,
   "metadata": {},
   "outputs": [],
   "source": [
    "lr_l2_cv = LogisticRegression(penalty='l2', solver='liblinear')"
   ]
  },
  {
   "cell_type": "code",
   "execution_count": 289,
   "metadata": {},
   "outputs": [],
   "source": [
    "selector = RFECV(lr_l2_cv, cv=5, scoring='roc_auc', step=1,  verbose=2, n_jobs=-1)"
   ]
  },
  {
   "cell_type": "markdown",
   "metadata": {},
   "source": [
    "**WARNING: This takes a long time**"
   ]
  },
  {
   "cell_type": "code",
   "execution_count": 290,
   "metadata": {},
   "outputs": [
    {
     "name": "stdout",
     "output_type": "stream",
     "text": [
      "Fitting estimator with 242 features.\n",
      "Fitting estimator with 241 features.\n",
      "Fitting estimator with 240 features.\n",
      "Fitting estimator with 239 features.\n",
      "Fitting estimator with 238 features.\n",
      "Fitting estimator with 237 features.\n",
      "Fitting estimator with 236 features.\n",
      "Fitting estimator with 235 features.\n",
      "Fitting estimator with 234 features.\n",
      "Fitting estimator with 233 features.\n",
      "Fitting estimator with 232 features.\n",
      "Fitting estimator with 231 features.\n",
      "Fitting estimator with 230 features.\n",
      "Fitting estimator with 229 features.\n",
      "Fitting estimator with 228 features.\n",
      "Fitting estimator with 227 features.\n"
     ]
    },
    {
     "data": {
      "text/plain": [
       "RFECV(cv=5,\n",
       "      estimator=LogisticRegression(C=1.0, class_weight=None, dual=False,\n",
       "                                   fit_intercept=True, intercept_scaling=1,\n",
       "                                   l1_ratio=None, max_iter=100,\n",
       "                                   multi_class='auto', n_jobs=None,\n",
       "                                   penalty='l2', random_state=None,\n",
       "                                   solver='liblinear', tol=0.0001, verbose=0,\n",
       "                                   warm_start=False),\n",
       "      min_features_to_select=1, n_jobs=-1, scoring='roc_auc', step=1,\n",
       "      verbose=1)"
      ]
     },
     "execution_count": 290,
     "metadata": {},
     "output_type": "execute_result"
    }
   ],
   "source": [
    "selector.fit(X_train_resampled, y_train_resampled)"
   ]
  },
  {
   "cell_type": "markdown",
   "metadata": {},
   "source": [
    "The recursive feature elimination has chosen a model with 226 features as having the best cross-validated AUC."
   ]
  },
  {
   "cell_type": "code",
   "execution_count": 296,
   "metadata": {},
   "outputs": [
    {
     "data": {
      "text/plain": [
       "226"
      ]
     },
     "execution_count": 296,
     "metadata": {},
     "output_type": "execute_result"
    }
   ],
   "source": [
    "selector.n_features_"
   ]
  },
  {
   "cell_type": "code",
   "execution_count": 358,
   "metadata": {},
   "outputs": [],
   "source": [
    "best_lr = selector.estimator_"
   ]
  },
  {
   "cell_type": "code",
   "execution_count": 310,
   "metadata": {},
   "outputs": [
    {
     "data": {
      "text/plain": [
       "-1    41081\n",
       " 1    41081\n",
       "Name: target, dtype: int64"
      ]
     },
     "execution_count": 310,
     "metadata": {},
     "output_type": "execute_result"
    }
   ],
   "source": [
    "X_rec_selected = X_cleaned.loc[:,selector.support_]\n",
    "\n",
    "from sklearn.model_selection import train_test_split\n",
    "from imblearn.over_sampling import RandomOverSampler\n",
    "from sklearn import preprocessing\n",
    "X_train, X_test, y_train, y_test = train_test_split(X_rec_selected, y_cleaned, test_size=0.33)\n",
    "\n",
    "scaler = preprocessing.StandardScaler().fit(X_train)\n",
    "X_train = scaler.transform(X_train)\n",
    "X_test = scaler.transform(X_test)\n",
    "\n",
    "ros = RandomOverSampler()\n",
    "X_train_resampled, y_train_resampled = ros.fit_resample(X_train, y_train)\n",
    "\n",
    "y_resampled.value_counts()"
   ]
  },
  {
   "cell_type": "code",
   "execution_count": 325,
   "metadata": {},
   "outputs": [],
   "source": [
    "y_score = best_lr.fit(X_train_resampled, y_train_resampled).predict_proba(X_test)"
   ]
  },
  {
   "cell_type": "markdown",
   "metadata": {},
   "source": [
    "Again, even with selecting the optimal features using CV, the AUC is still 0.68. I think now I need to move away from single models and start using ensembles. Specifically, boosting should help here."
   ]
  },
  {
   "cell_type": "code",
   "execution_count": 329,
   "metadata": {},
   "outputs": [
    {
     "data": {
      "text/plain": [
       "{'lr_base': 0.6807180383401132,\n",
       " 'lr_l1': 0.6816934515668729,\n",
       " 'lr_l1_bal': 0.6787635737933321,\n",
       " 'lr_l1_bal_ranked': 0.6818693210860199,\n",
       " 'lr_l1_bal_l2_subset': 0.6817448393174824,\n",
       " 'lr_l2_bal_subset': 0.6817448393174824}"
      ]
     },
     "execution_count": 329,
     "metadata": {},
     "output_type": "execute_result"
    }
   ],
   "source": [
    "auc_dict['lr_l2_bal_subset'] = roc_auc_score(y_test, y_score[:,1])\n",
    "auc_dict"
   ]
  },
  {
   "cell_type": "code",
   "execution_count": 349,
   "metadata": {},
   "outputs": [
    {
     "data": {
      "image/png": "[encoded data removed]",
      "text/plain": [
       "<Figure size 720x576 with 1 Axes>"
      ]
     },
     "metadata": {
      "needs_background": "light"
     },
     "output_type": "display_data"
    }
   ],
   "source": [
    "fig, ax = plt.subplots(figsize=(10,8))\n",
    "plot5 = plot_roc_curve(best_lr, X_test, y_test, ax=ax, name=\"LR_l2_bal_subset\")\n",
    "plot.plot(ax=ax)\n",
    "plot2.plot(ax=ax)\n",
    "plot3.plot(ax=ax)\n",
    "plot4.plot(ax=ax)\n",
    "plt.grid(which='both')\n",
    "plt.show()"
   ]
  },
  {
   "cell_type": "markdown",
   "metadata": {},
   "source": [
    "## Boosted Logistic Regression\n",
    "\n",
    "The above models are all single models. There seems to be no way to improve the AUC past 0.68 using just a single model. I will stick with the subset of features that the above step selected. But now I will use it with a AdaBoostClassifier to try to improve the AUC."
   ]
  },
  {
   "cell_type": "code",
   "execution_count": 360,
   "metadata": {},
   "outputs": [],
   "source": [
    "from sklearn.ensemble import AdaBoostClassifier"
   ]
  },
  {
   "cell_type": "code",
   "execution_count": 384,
   "metadata": {},
   "outputs": [],
   "source": [
    "abc = AdaBoostClassifier(LogisticRegression(penalty='l2', solver='newton-cg', max_iter=200), n_estimators=100)"
   ]
  },
  {
   "cell_type": "code",
   "execution_count": 363,
   "metadata": {},
   "outputs": [
    {
     "data": {
      "text/plain": [
       "-1    41081\n",
       " 1    41081\n",
       "Name: target, dtype: int64"
      ]
     },
     "execution_count": 363,
     "metadata": {},
     "output_type": "execute_result"
    }
   ],
   "source": [
    "X_rec_selected = X_cleaned.loc[:,selector.support_]\n",
    "\n",
    "from sklearn.model_selection import train_test_split\n",
    "from imblearn.over_sampling import RandomOverSampler\n",
    "from sklearn import preprocessing\n",
    "X_train, X_test, y_train, y_test = train_test_split(X_rec_selected, y_cleaned, test_size=0.33)\n",
    "\n",
    "scaler = preprocessing.StandardScaler().fit(X_train)\n",
    "X_train = scaler.transform(X_train)\n",
    "X_test = scaler.transform(X_test)\n",
    "\n",
    "ros = RandomOverSampler()\n",
    "X_train_resampled, y_train_resampled = ros.fit_resample(X_train, y_train)\n",
    "\n",
    "y_resampled.value_counts()"
   ]
  },
  {
   "cell_type": "code",
   "execution_count": 385,
   "metadata": {},
   "outputs": [],
   "source": [
    "abc.fit(X_train_resampled, y_train_resampled)\n",
    "y_score = abc.predict_proba(X_test)"
   ]
  },
  {
   "cell_type": "code",
   "execution_count": 386,
   "metadata": {},
   "outputs": [
    {
     "data": {
      "text/plain": [
       "{'lr_base': 0.6830897864587152,\n",
       " 'lr_l1': 0.6834516385090893,\n",
       " 'lr_l1_bal': 0.6818696449199652,\n",
       " 'lr_l1_bal_ranked': 0.6784641983773252,\n",
       " 'lr_l2_bal_subset_ensemble': 0.6862984651553279}"
      ]
     },
     "execution_count": 386,
     "metadata": {},
     "output_type": "execute_result"
    }
   ],
   "source": [
    "auc_dict['lr_l2_bal_subset_ensemble'] = roc_auc_score(y_test, y_score[:,1])\n",
    "auc_dict"
   ]
  },
  {
   "cell_type": "code",
   "execution_count": 567,
   "metadata": {},
   "outputs": [
    {
     "ename": "ValueError",
     "evalue": "X has 159 features per sample; expecting 226",
     "output_type": "error",
     "traceback": [
      "\u001b[0;31m---------------------------------------------------------------------------\u001b[0m",
      "\u001b[0;31mValueError\u001b[0m                                Traceback (most recent call last)",
      "\u001b[0;32m<ipython-input-567-eb9577d009fe>\u001b[0m in \u001b[0;36m<module>\u001b[0;34m\u001b[0m\n\u001b[1;32m      1\u001b[0m \u001b[0mfig\u001b[0m\u001b[0;34m,\u001b[0m \u001b[0max\u001b[0m \u001b[0;34m=\u001b[0m \u001b[0mplt\u001b[0m\u001b[0;34m.\u001b[0m\u001b[0msubplots\u001b[0m\u001b[0;34m(\u001b[0m\u001b[0mfigsize\u001b[0m\u001b[0;34m=\u001b[0m\u001b[0;34m(\u001b[0m\u001b[0;36m10\u001b[0m\u001b[0;34m,\u001b[0m\u001b[0;36m8\u001b[0m\u001b[0;34m)\u001b[0m\u001b[0;34m)\u001b[0m\u001b[0;34m\u001b[0m\u001b[0;34m\u001b[0m\u001b[0m\n\u001b[0;32m----> 2\u001b[0;31m \u001b[0mplot6\u001b[0m \u001b[0;34m=\u001b[0m \u001b[0mplot_roc_curve\u001b[0m\u001b[0;34m(\u001b[0m\u001b[0mabc\u001b[0m\u001b[0;34m,\u001b[0m \u001b[0mX_test\u001b[0m\u001b[0;34m,\u001b[0m \u001b[0my_test\u001b[0m\u001b[0;34m,\u001b[0m \u001b[0max\u001b[0m\u001b[0;34m=\u001b[0m\u001b[0max\u001b[0m\u001b[0;34m,\u001b[0m \u001b[0mname\u001b[0m\u001b[0;34m=\u001b[0m\u001b[0;34m\"LR_l2_bal_subset_ensemble\"\u001b[0m\u001b[0;34m)\u001b[0m\u001b[0;34m\u001b[0m\u001b[0;34m\u001b[0m\u001b[0m\n\u001b[0m\u001b[1;32m      3\u001b[0m \u001b[0mplot\u001b[0m\u001b[0;34m.\u001b[0m\u001b[0mplot\u001b[0m\u001b[0;34m(\u001b[0m\u001b[0max\u001b[0m\u001b[0;34m=\u001b[0m\u001b[0max\u001b[0m\u001b[0;34m)\u001b[0m\u001b[0;34m\u001b[0m\u001b[0;34m\u001b[0m\u001b[0m\n\u001b[1;32m      4\u001b[0m \u001b[0mplot2\u001b[0m\u001b[0;34m.\u001b[0m\u001b[0mplot\u001b[0m\u001b[0;34m(\u001b[0m\u001b[0max\u001b[0m\u001b[0;34m=\u001b[0m\u001b[0max\u001b[0m\u001b[0;34m)\u001b[0m\u001b[0;34m\u001b[0m\u001b[0;34m\u001b[0m\u001b[0m\n\u001b[1;32m      5\u001b[0m \u001b[0mplot3\u001b[0m\u001b[0;34m.\u001b[0m\u001b[0mplot\u001b[0m\u001b[0;34m(\u001b[0m\u001b[0max\u001b[0m\u001b[0;34m=\u001b[0m\u001b[0max\u001b[0m\u001b[0;34m)\u001b[0m\u001b[0;34m\u001b[0m\u001b[0;34m\u001b[0m\u001b[0m\n",
      "\u001b[0;32m~/anaconda3/envs/cust_churn/lib/python3.6/site-packages/sklearn/metrics/_plot/roc_curve.py\u001b[0m in \u001b[0;36mplot_roc_curve\u001b[0;34m(estimator, X, y, sample_weight, drop_intermediate, response_method, name, ax, **kwargs)\u001b[0m\n\u001b[1;32m    174\u001b[0m     prediction_method = _check_classifer_response_method(estimator,\n\u001b[1;32m    175\u001b[0m                                                          response_method)\n\u001b[0;32m--> 176\u001b[0;31m     \u001b[0my_pred\u001b[0m \u001b[0;34m=\u001b[0m \u001b[0mprediction_method\u001b[0m\u001b[0;34m(\u001b[0m\u001b[0mX\u001b[0m\u001b[0;34m)\u001b[0m\u001b[0;34m\u001b[0m\u001b[0;34m\u001b[0m\u001b[0m\n\u001b[0m\u001b[1;32m    177\u001b[0m \u001b[0;34m\u001b[0m\u001b[0m\n\u001b[1;32m    178\u001b[0m     \u001b[0;32mif\u001b[0m \u001b[0my_pred\u001b[0m\u001b[0;34m.\u001b[0m\u001b[0mndim\u001b[0m \u001b[0;34m!=\u001b[0m \u001b[0;36m1\u001b[0m\u001b[0;34m:\u001b[0m\u001b[0;34m\u001b[0m\u001b[0;34m\u001b[0m\u001b[0m\n",
      "\u001b[0;32m~/anaconda3/envs/cust_churn/lib/python3.6/site-packages/sklearn/ensemble/_weight_boosting.py\u001b[0m in \u001b[0;36mpredict_proba\u001b[0;34m(self, X)\u001b[0m\n\u001b[1;32m    806\u001b[0m             \u001b[0;32mreturn\u001b[0m \u001b[0mnp\u001b[0m\u001b[0;34m.\u001b[0m\u001b[0mones\u001b[0m\u001b[0;34m(\u001b[0m\u001b[0;34m(\u001b[0m\u001b[0m_num_samples\u001b[0m\u001b[0;34m(\u001b[0m\u001b[0mX\u001b[0m\u001b[0;34m)\u001b[0m\u001b[0;34m,\u001b[0m \u001b[0;36m1\u001b[0m\u001b[0;34m)\u001b[0m\u001b[0;34m)\u001b[0m\u001b[0;34m\u001b[0m\u001b[0;34m\u001b[0m\u001b[0m\n\u001b[1;32m    807\u001b[0m \u001b[0;34m\u001b[0m\u001b[0m\n\u001b[0;32m--> 808\u001b[0;31m         \u001b[0mdecision\u001b[0m \u001b[0;34m=\u001b[0m \u001b[0mself\u001b[0m\u001b[0;34m.\u001b[0m\u001b[0mdecision_function\u001b[0m\u001b[0;34m(\u001b[0m\u001b[0mX\u001b[0m\u001b[0;34m)\u001b[0m\u001b[0;34m\u001b[0m\u001b[0;34m\u001b[0m\u001b[0m\n\u001b[0m\u001b[1;32m    809\u001b[0m         \u001b[0;32mreturn\u001b[0m \u001b[0mself\u001b[0m\u001b[0;34m.\u001b[0m\u001b[0m_compute_proba_from_decision\u001b[0m\u001b[0;34m(\u001b[0m\u001b[0mdecision\u001b[0m\u001b[0;34m,\u001b[0m \u001b[0mn_classes\u001b[0m\u001b[0;34m)\u001b[0m\u001b[0;34m\u001b[0m\u001b[0;34m\u001b[0m\u001b[0m\n\u001b[1;32m    810\u001b[0m \u001b[0;34m\u001b[0m\u001b[0m\n",
      "\u001b[0;32m~/anaconda3/envs/cust_churn/lib/python3.6/site-packages/sklearn/ensemble/_weight_boosting.py\u001b[0m in \u001b[0;36mdecision_function\u001b[0;34m(self, X)\u001b[0m\n\u001b[1;32m    695\u001b[0m             \u001b[0;31m# The weights are all 1. for SAMME.R\u001b[0m\u001b[0;34m\u001b[0m\u001b[0;34m\u001b[0m\u001b[0;34m\u001b[0m\u001b[0m\n\u001b[1;32m    696\u001b[0m             pred = sum(_samme_proba(estimator, n_classes, X)\n\u001b[0;32m--> 697\u001b[0;31m                        for estimator in self.estimators_)\n\u001b[0m\u001b[1;32m    698\u001b[0m         \u001b[0;32melse\u001b[0m\u001b[0;34m:\u001b[0m  \u001b[0;31m# self.algorithm == \"SAMME\"\u001b[0m\u001b[0;34m\u001b[0m\u001b[0;34m\u001b[0m\u001b[0m\n\u001b[1;32m    699\u001b[0m             pred = sum((estimator.predict(X) == classes).T * w\n",
      "\u001b[0;32m~/anaconda3/envs/cust_churn/lib/python3.6/site-packages/sklearn/ensemble/_weight_boosting.py\u001b[0m in \u001b[0;36m<genexpr>\u001b[0;34m(.0)\u001b[0m\n\u001b[1;32m    695\u001b[0m             \u001b[0;31m# The weights are all 1. for SAMME.R\u001b[0m\u001b[0;34m\u001b[0m\u001b[0;34m\u001b[0m\u001b[0;34m\u001b[0m\u001b[0m\n\u001b[1;32m    696\u001b[0m             pred = sum(_samme_proba(estimator, n_classes, X)\n\u001b[0;32m--> 697\u001b[0;31m                        for estimator in self.estimators_)\n\u001b[0m\u001b[1;32m    698\u001b[0m         \u001b[0;32melse\u001b[0m\u001b[0;34m:\u001b[0m  \u001b[0;31m# self.algorithm == \"SAMME\"\u001b[0m\u001b[0;34m\u001b[0m\u001b[0;34m\u001b[0m\u001b[0m\n\u001b[1;32m    699\u001b[0m             pred = sum((estimator.predict(X) == classes).T * w\n",
      "\u001b[0;32m~/anaconda3/envs/cust_churn/lib/python3.6/site-packages/sklearn/ensemble/_weight_boosting.py\u001b[0m in \u001b[0;36m_samme_proba\u001b[0;34m(estimator, n_classes, X)\u001b[0m\n\u001b[1;32m    271\u001b[0m \u001b[0;34m\u001b[0m\u001b[0m\n\u001b[1;32m    272\u001b[0m     \"\"\"\n\u001b[0;32m--> 273\u001b[0;31m     \u001b[0mproba\u001b[0m \u001b[0;34m=\u001b[0m \u001b[0mestimator\u001b[0m\u001b[0;34m.\u001b[0m\u001b[0mpredict_proba\u001b[0m\u001b[0;34m(\u001b[0m\u001b[0mX\u001b[0m\u001b[0;34m)\u001b[0m\u001b[0;34m\u001b[0m\u001b[0;34m\u001b[0m\u001b[0m\n\u001b[0m\u001b[1;32m    274\u001b[0m \u001b[0;34m\u001b[0m\u001b[0m\n\u001b[1;32m    275\u001b[0m     \u001b[0;31m# Displace zero probabilities so the log is defined.\u001b[0m\u001b[0;34m\u001b[0m\u001b[0;34m\u001b[0m\u001b[0;34m\u001b[0m\u001b[0m\n",
      "\u001b[0;32m~/anaconda3/envs/cust_churn/lib/python3.6/site-packages/sklearn/linear_model/_logistic.py\u001b[0m in \u001b[0;36mpredict_proba\u001b[0;34m(self, X)\u001b[0m\n\u001b[1;32m   1649\u001b[0m                                                 self.solver == 'liblinear')))\n\u001b[1;32m   1650\u001b[0m         \u001b[0;32mif\u001b[0m \u001b[0movr\u001b[0m\u001b[0;34m:\u001b[0m\u001b[0;34m\u001b[0m\u001b[0;34m\u001b[0m\u001b[0m\n\u001b[0;32m-> 1651\u001b[0;31m             \u001b[0;32mreturn\u001b[0m \u001b[0msuper\u001b[0m\u001b[0;34m(\u001b[0m\u001b[0;34m)\u001b[0m\u001b[0;34m.\u001b[0m\u001b[0m_predict_proba_lr\u001b[0m\u001b[0;34m(\u001b[0m\u001b[0mX\u001b[0m\u001b[0;34m)\u001b[0m\u001b[0;34m\u001b[0m\u001b[0;34m\u001b[0m\u001b[0m\n\u001b[0m\u001b[1;32m   1652\u001b[0m         \u001b[0;32melse\u001b[0m\u001b[0;34m:\u001b[0m\u001b[0;34m\u001b[0m\u001b[0;34m\u001b[0m\u001b[0m\n\u001b[1;32m   1653\u001b[0m             \u001b[0mdecision\u001b[0m \u001b[0;34m=\u001b[0m \u001b[0mself\u001b[0m\u001b[0;34m.\u001b[0m\u001b[0mdecision_function\u001b[0m\u001b[0;34m(\u001b[0m\u001b[0mX\u001b[0m\u001b[0;34m)\u001b[0m\u001b[0;34m\u001b[0m\u001b[0;34m\u001b[0m\u001b[0m\n",
      "\u001b[0;32m~/anaconda3/envs/cust_churn/lib/python3.6/site-packages/sklearn/linear_model/_base.py\u001b[0m in \u001b[0;36m_predict_proba_lr\u001b[0;34m(self, X)\u001b[0m\n\u001b[1;32m    305\u001b[0m         \u001b[0mmulticlass\u001b[0m \u001b[0;32mis\u001b[0m \u001b[0mhandled\u001b[0m \u001b[0mby\u001b[0m \u001b[0mnormalizing\u001b[0m \u001b[0mthat\u001b[0m \u001b[0mover\u001b[0m \u001b[0mall\u001b[0m \u001b[0mclasses\u001b[0m\u001b[0;34m.\u001b[0m\u001b[0;34m\u001b[0m\u001b[0;34m\u001b[0m\u001b[0m\n\u001b[1;32m    306\u001b[0m         \"\"\"\n\u001b[0;32m--> 307\u001b[0;31m         \u001b[0mprob\u001b[0m \u001b[0;34m=\u001b[0m \u001b[0mself\u001b[0m\u001b[0;34m.\u001b[0m\u001b[0mdecision_function\u001b[0m\u001b[0;34m(\u001b[0m\u001b[0mX\u001b[0m\u001b[0;34m)\u001b[0m\u001b[0;34m\u001b[0m\u001b[0;34m\u001b[0m\u001b[0m\n\u001b[0m\u001b[1;32m    308\u001b[0m         \u001b[0mexpit\u001b[0m\u001b[0;34m(\u001b[0m\u001b[0mprob\u001b[0m\u001b[0;34m,\u001b[0m \u001b[0mout\u001b[0m\u001b[0;34m=\u001b[0m\u001b[0mprob\u001b[0m\u001b[0;34m)\u001b[0m\u001b[0;34m\u001b[0m\u001b[0;34m\u001b[0m\u001b[0m\n\u001b[1;32m    309\u001b[0m         \u001b[0;32mif\u001b[0m \u001b[0mprob\u001b[0m\u001b[0;34m.\u001b[0m\u001b[0mndim\u001b[0m \u001b[0;34m==\u001b[0m \u001b[0;36m1\u001b[0m\u001b[0;34m:\u001b[0m\u001b[0;34m\u001b[0m\u001b[0;34m\u001b[0m\u001b[0m\n",
      "\u001b[0;32m~/anaconda3/envs/cust_churn/lib/python3.6/site-packages/sklearn/linear_model/_base.py\u001b[0m in \u001b[0;36mdecision_function\u001b[0;34m(self, X)\u001b[0m\n\u001b[1;32m    271\u001b[0m         \u001b[0;32mif\u001b[0m \u001b[0mX\u001b[0m\u001b[0;34m.\u001b[0m\u001b[0mshape\u001b[0m\u001b[0;34m[\u001b[0m\u001b[0;36m1\u001b[0m\u001b[0;34m]\u001b[0m \u001b[0;34m!=\u001b[0m \u001b[0mn_features\u001b[0m\u001b[0;34m:\u001b[0m\u001b[0;34m\u001b[0m\u001b[0;34m\u001b[0m\u001b[0m\n\u001b[1;32m    272\u001b[0m             raise ValueError(\"X has %d features per sample; expecting %d\"\n\u001b[0;32m--> 273\u001b[0;31m                              % (X.shape[1], n_features))\n\u001b[0m\u001b[1;32m    274\u001b[0m \u001b[0;34m\u001b[0m\u001b[0m\n\u001b[1;32m    275\u001b[0m         scores = safe_sparse_dot(X, self.coef_.T,\n",
      "\u001b[0;31mValueError\u001b[0m: X has 159 features per sample; expecting 226"
     ]
    },
    {
     "data": {
      "image/png": "[encoded data removed]",
      "text/plain": [
       "<Figure size 720x576 with 1 Axes>"
      ]
     },
     "metadata": {
      "needs_background": "light"
     },
     "output_type": "display_data"
    }
   ],
   "source": [
    "fig, ax = plt.subplots(figsize=(10,8))\n",
    "plot6 = plot_roc_curve(abc, X_test, y_test, ax=ax, name=\"LR_l2_bal_subset_ensemble\")\n",
    "plot.plot(ax=ax)\n",
    "plot2.plot(ax=ax)\n",
    "plot3.plot(ax=ax)\n",
    "plot4.plot(ax=ax)\n",
    "plot5.plot(ax=ax)\n",
    "plt.grid(which='both')\n",
    "plt.show()"
   ]
  },
  {
   "cell_type": "markdown",
   "metadata": {},
   "source": [
    "It doesn't look like logistic regression is going to be able to get an AUC better than 0.68 with this dataset. It may be that the imputation methods that I have used have introduced too much noise into the data. But it could also be that the relationship between churners and the features is highly non-linear.\n",
    "\n",
    "To see if I can capture this possible non-linear relationship I will now move on to Decision Trees."
   ]
  },
  {
   "cell_type": "markdown",
   "metadata": {},
   "source": [
    "***\n",
    "***\n",
    "# Decision Trees\n",
    "## Single Decision Tree\n",
    "As before, I will start off with the base case of a vanilla decision tree fit to all the available features"
   ]
  },
  {
   "cell_type": "code",
   "execution_count": 391,
   "metadata": {},
   "outputs": [
    {
     "data": {
      "text/plain": [
       "-1    41081\n",
       " 1    41081\n",
       "Name: target, dtype: int64"
      ]
     },
     "execution_count": 391,
     "metadata": {},
     "output_type": "execute_result"
    }
   ],
   "source": [
    "from sklearn.model_selection import train_test_split\n",
    "from imblearn.over_sampling import RandomOverSampler\n",
    "from sklearn import preprocessing\n",
    "X_train, X_test, y_train, y_test = train_test_split(X_cleaned, y_cleaned, test_size=0.33)\n",
    "\n",
    "scaler = preprocessing.StandardScaler().fit(X_train)\n",
    "X_train = scaler.transform(X_train)\n",
    "X_test = scaler.transform(X_test)\n",
    "\n",
    "ros = RandomOverSampler()\n",
    "X_train_resampled, y_train_resampled = ros.fit_resample(X_train, y_train)\n",
    "\n",
    "y_resampled.value_counts()"
   ]
  },
  {
   "cell_type": "code",
   "execution_count": 392,
   "metadata": {},
   "outputs": [],
   "source": [
    "from sklearn.tree import DecisionTreeClassifier"
   ]
  },
  {
   "cell_type": "code",
   "execution_count": 393,
   "metadata": {},
   "outputs": [],
   "source": [
    "dtc = DecisionTreeClassifier(criterion='gini', splitter = 'best')"
   ]
  },
  {
   "cell_type": "code",
   "execution_count": 402,
   "metadata": {},
   "outputs": [
    {
     "data": {
      "text/plain": [
       "DecisionTreeClassifier(ccp_alpha=0.0, class_weight=None, criterion='gini',\n",
       "                       max_depth=None, max_features=None, max_leaf_nodes=None,\n",
       "                       min_impurity_decrease=0.0, min_impurity_split=None,\n",
       "                       min_samples_leaf=1, min_samples_split=2,\n",
       "                       min_weight_fraction_leaf=0.0, presort='deprecated',\n",
       "                       random_state=None, splitter='best')"
      ]
     },
     "execution_count": 402,
     "metadata": {},
     "output_type": "execute_result"
    }
   ],
   "source": [
    "dtc.fit(X_train, y_train)"
   ]
  },
  {
   "cell_type": "code",
   "execution_count": 403,
   "metadata": {},
   "outputs": [],
   "source": [
    "y_pred = dtc.predict_proba(X_test)"
   ]
  },
  {
   "cell_type": "markdown",
   "metadata": {},
   "source": [
    "So the base, single decision tree classifier is no better than random for this dataset"
   ]
  },
  {
   "cell_type": "code",
   "execution_count": 404,
   "metadata": {},
   "outputs": [
    {
     "data": {
      "text/plain": [
       "{'lr_base': 0.6830897864587152,\n",
       " 'lr_l1': 0.6834516385090893,\n",
       " 'lr_l1_bal': 0.6818696449199652,\n",
       " 'lr_l1_bal_ranked': 0.6784641983773252,\n",
       " 'lr_l2_bal_subset_ensemble': 0.6862984651553279,\n",
       " 'dt_base': 0.4805709793973624}"
      ]
     },
     "execution_count": 404,
     "metadata": {},
     "output_type": "execute_result"
    }
   ],
   "source": [
    "auc_dict['dt_base'] = roc_auc_score(y_test, y_score[:,1])\n",
    "auc_dict"
   ]
  },
  {
   "cell_type": "markdown",
   "metadata": {},
   "source": [
    "## Feature selection and Decision tree\n",
    "Let's now jump straight to selecting a subset of the features using recursive feature elimination. I am going to use the resampled data for the feature elimination to see if this helps at all"
   ]
  },
  {
   "cell_type": "code",
   "execution_count": 405,
   "metadata": {},
   "outputs": [],
   "source": [
    "from sklearn.feature_selection import RFECV"
   ]
  },
  {
   "cell_type": "code",
   "execution_count": 406,
   "metadata": {},
   "outputs": [],
   "source": [
    "selector = RFECV(dtc, cv=5, scoring='roc_auc', step=1,  verbose=2, n_jobs=-1)"
   ]
  },
  {
   "cell_type": "markdown",
   "metadata": {},
   "source": [
    "The recursive feature elimination leads to a best subset of features that includes only 2 of the features"
   ]
  },
  {
   "cell_type": "code",
   "execution_count": 408,
   "metadata": {},
   "outputs": [
    {
     "name": "stdout",
     "output_type": "stream",
     "text": [
      "Fitting estimator with 242 features.\n",
      "Fitting estimator with 241 features.\n",
      "Fitting estimator with 240 features.\n",
      "Fitting estimator with 239 features.\n",
      "Fitting estimator with 238 features.\n",
      "Fitting estimator with 237 features.\n",
      "Fitting estimator with 236 features.\n",
      "Fitting estimator with 235 features.\n",
      "Fitting estimator with 234 features.\n",
      "Fitting estimator with 233 features.\n",
      "Fitting estimator with 232 features.\n",
      "Fitting estimator with 231 features.\n",
      "Fitting estimator with 230 features.\n",
      "Fitting estimator with 229 features.\n",
      "Fitting estimator with 228 features.\n",
      "Fitting estimator with 227 features.\n",
      "Fitting estimator with 226 features.\n",
      "Fitting estimator with 225 features.\n",
      "Fitting estimator with 224 features.\n",
      "Fitting estimator with 223 features.\n",
      "Fitting estimator with 222 features.\n",
      "Fitting estimator with 221 features.\n",
      "Fitting estimator with 220 features.\n",
      "Fitting estimator with 219 features.\n",
      "Fitting estimator with 218 features.\n",
      "Fitting estimator with 217 features.\n",
      "Fitting estimator with 216 features.\n",
      "Fitting estimator with 215 features.\n",
      "Fitting estimator with 214 features.\n",
      "Fitting estimator with 213 features.\n",
      "Fitting estimator with 212 features.\n",
      "Fitting estimator with 211 features.\n",
      "Fitting estimator with 210 features.\n",
      "Fitting estimator with 209 features.\n",
      "Fitting estimator with 208 features.\n",
      "Fitting estimator with 207 features.\n",
      "Fitting estimator with 206 features.\n",
      "Fitting estimator with 205 features.\n",
      "Fitting estimator with 204 features.\n",
      "Fitting estimator with 203 features.\n",
      "Fitting estimator with 202 features.\n",
      "Fitting estimator with 201 features.\n",
      "Fitting estimator with 200 features.\n",
      "Fitting estimator with 199 features.\n",
      "Fitting estimator with 198 features.\n",
      "Fitting estimator with 197 features.\n",
      "Fitting estimator with 196 features.\n",
      "Fitting estimator with 195 features.\n",
      "Fitting estimator with 194 features.\n",
      "Fitting estimator with 193 features.\n",
      "Fitting estimator with 192 features.\n",
      "Fitting estimator with 191 features.\n",
      "Fitting estimator with 190 features.\n",
      "Fitting estimator with 189 features.\n",
      "Fitting estimator with 188 features.\n",
      "Fitting estimator with 187 features.\n",
      "Fitting estimator with 186 features.\n",
      "Fitting estimator with 185 features.\n",
      "Fitting estimator with 184 features.\n",
      "Fitting estimator with 183 features.\n",
      "Fitting estimator with 182 features.\n",
      "Fitting estimator with 181 features.\n",
      "Fitting estimator with 180 features.\n",
      "Fitting estimator with 179 features.\n",
      "Fitting estimator with 178 features.\n",
      "Fitting estimator with 177 features.\n",
      "Fitting estimator with 176 features.\n",
      "Fitting estimator with 175 features.\n",
      "Fitting estimator with 174 features.\n",
      "Fitting estimator with 173 features.\n",
      "Fitting estimator with 172 features.\n",
      "Fitting estimator with 171 features.\n",
      "Fitting estimator with 170 features.\n",
      "Fitting estimator with 169 features.\n",
      "Fitting estimator with 168 features.\n",
      "Fitting estimator with 167 features.\n",
      "Fitting estimator with 166 features.\n",
      "Fitting estimator with 165 features.\n",
      "Fitting estimator with 164 features.\n",
      "Fitting estimator with 163 features.\n",
      "Fitting estimator with 162 features.\n",
      "Fitting estimator with 161 features.\n",
      "Fitting estimator with 160 features.\n",
      "Fitting estimator with 159 features.\n",
      "Fitting estimator with 158 features.\n",
      "Fitting estimator with 157 features.\n",
      "Fitting estimator with 156 features.\n",
      "Fitting estimator with 155 features.\n",
      "Fitting estimator with 154 features.\n",
      "Fitting estimator with 153 features.\n",
      "Fitting estimator with 152 features.\n",
      "Fitting estimator with 151 features.\n",
      "Fitting estimator with 150 features.\n",
      "Fitting estimator with 149 features.\n",
      "Fitting estimator with 148 features.\n",
      "Fitting estimator with 147 features.\n",
      "Fitting estimator with 146 features.\n",
      "Fitting estimator with 145 features.\n",
      "Fitting estimator with 144 features.\n",
      "Fitting estimator with 143 features.\n",
      "Fitting estimator with 142 features.\n",
      "Fitting estimator with 141 features.\n",
      "Fitting estimator with 140 features.\n",
      "Fitting estimator with 139 features.\n",
      "Fitting estimator with 138 features.\n",
      "Fitting estimator with 137 features.\n",
      "Fitting estimator with 136 features.\n",
      "Fitting estimator with 135 features.\n",
      "Fitting estimator with 134 features.\n",
      "Fitting estimator with 133 features.\n",
      "Fitting estimator with 132 features.\n",
      "Fitting estimator with 131 features.\n",
      "Fitting estimator with 130 features.\n",
      "Fitting estimator with 129 features.\n",
      "Fitting estimator with 128 features.\n",
      "Fitting estimator with 127 features.\n",
      "Fitting estimator with 126 features.\n",
      "Fitting estimator with 125 features.\n",
      "Fitting estimator with 124 features.\n",
      "Fitting estimator with 123 features.\n",
      "Fitting estimator with 122 features.\n",
      "Fitting estimator with 121 features.\n",
      "Fitting estimator with 120 features.\n",
      "Fitting estimator with 119 features.\n",
      "Fitting estimator with 118 features.\n",
      "Fitting estimator with 117 features.\n",
      "Fitting estimator with 116 features.\n",
      "Fitting estimator with 115 features.\n",
      "Fitting estimator with 114 features.\n",
      "Fitting estimator with 113 features.\n",
      "Fitting estimator with 112 features.\n",
      "Fitting estimator with 111 features.\n",
      "Fitting estimator with 110 features.\n",
      "Fitting estimator with 109 features.\n",
      "Fitting estimator with 108 features.\n",
      "Fitting estimator with 107 features.\n",
      "Fitting estimator with 106 features.\n",
      "Fitting estimator with 105 features.\n",
      "Fitting estimator with 104 features.\n",
      "Fitting estimator with 103 features.\n",
      "Fitting estimator with 102 features.\n",
      "Fitting estimator with 101 features.\n",
      "Fitting estimator with 100 features.\n",
      "Fitting estimator with 99 features.\n",
      "Fitting estimator with 98 features.\n",
      "Fitting estimator with 97 features.\n",
      "Fitting estimator with 96 features.\n",
      "Fitting estimator with 95 features.\n",
      "Fitting estimator with 94 features.\n",
      "Fitting estimator with 93 features.\n",
      "Fitting estimator with 92 features.\n",
      "Fitting estimator with 91 features.\n",
      "Fitting estimator with 90 features.\n",
      "Fitting estimator with 89 features.\n",
      "Fitting estimator with 88 features.\n",
      "Fitting estimator with 87 features.\n",
      "Fitting estimator with 86 features.\n",
      "Fitting estimator with 85 features.\n",
      "Fitting estimator with 84 features.\n",
      "Fitting estimator with 83 features.\n",
      "Fitting estimator with 82 features.\n",
      "Fitting estimator with 81 features.\n",
      "Fitting estimator with 80 features.\n",
      "Fitting estimator with 79 features.\n",
      "Fitting estimator with 78 features.\n",
      "Fitting estimator with 77 features.\n",
      "Fitting estimator with 76 features.\n",
      "Fitting estimator with 75 features.\n",
      "Fitting estimator with 74 features.\n",
      "Fitting estimator with 73 features.\n",
      "Fitting estimator with 72 features.\n",
      "Fitting estimator with 71 features.\n",
      "Fitting estimator with 70 features.\n",
      "Fitting estimator with 69 features.\n",
      "Fitting estimator with 68 features.\n",
      "Fitting estimator with 67 features.\n",
      "Fitting estimator with 66 features.\n",
      "Fitting estimator with 65 features.\n",
      "Fitting estimator with 64 features.\n",
      "Fitting estimator with 63 features.\n",
      "Fitting estimator with 62 features.\n",
      "Fitting estimator with 61 features.\n",
      "Fitting estimator with 60 features.\n",
      "Fitting estimator with 59 features.\n",
      "Fitting estimator with 58 features.\n",
      "Fitting estimator with 57 features.\n",
      "Fitting estimator with 56 features.\n",
      "Fitting estimator with 55 features.\n",
      "Fitting estimator with 54 features.\n",
      "Fitting estimator with 53 features.\n",
      "Fitting estimator with 52 features.\n",
      "Fitting estimator with 51 features.\n",
      "Fitting estimator with 50 features.\n",
      "Fitting estimator with 49 features.\n",
      "Fitting estimator with 48 features.\n",
      "Fitting estimator with 47 features.\n",
      "Fitting estimator with 46 features.\n",
      "Fitting estimator with 45 features.\n",
      "Fitting estimator with 44 features.\n",
      "Fitting estimator with 43 features.\n",
      "Fitting estimator with 42 features.\n",
      "Fitting estimator with 41 features.\n",
      "Fitting estimator with 40 features.\n",
      "Fitting estimator with 39 features.\n",
      "Fitting estimator with 38 features.\n",
      "Fitting estimator with 37 features.\n",
      "Fitting estimator with 36 features.\n",
      "Fitting estimator with 35 features.\n",
      "Fitting estimator with 34 features.\n",
      "Fitting estimator with 33 features.\n",
      "Fitting estimator with 32 features.\n",
      "Fitting estimator with 31 features.\n",
      "Fitting estimator with 30 features.\n",
      "Fitting estimator with 29 features.\n",
      "Fitting estimator with 28 features.\n",
      "Fitting estimator with 27 features.\n",
      "Fitting estimator with 26 features.\n",
      "Fitting estimator with 25 features.\n",
      "Fitting estimator with 24 features.\n",
      "Fitting estimator with 23 features.\n",
      "Fitting estimator with 22 features.\n",
      "Fitting estimator with 21 features.\n",
      "Fitting estimator with 20 features.\n",
      "Fitting estimator with 19 features.\n"
     ]
    },
    {
     "name": "stdout",
     "output_type": "stream",
     "text": [
      "Fitting estimator with 18 features.\n",
      "Fitting estimator with 17 features.\n",
      "Fitting estimator with 16 features.\n",
      "Fitting estimator with 15 features.\n",
      "Fitting estimator with 14 features.\n",
      "Fitting estimator with 13 features.\n",
      "Fitting estimator with 12 features.\n",
      "Fitting estimator with 11 features.\n",
      "Fitting estimator with 10 features.\n",
      "Fitting estimator with 9 features.\n",
      "Fitting estimator with 8 features.\n",
      "Fitting estimator with 7 features.\n",
      "Fitting estimator with 6 features.\n",
      "Fitting estimator with 5 features.\n",
      "Fitting estimator with 4 features.\n",
      "Fitting estimator with 3 features.\n"
     ]
    },
    {
     "data": {
      "text/plain": [
       "RFECV(cv=5,\n",
       "      estimator=DecisionTreeClassifier(ccp_alpha=0.0, class_weight=None,\n",
       "                                       criterion='gini', max_depth=None,\n",
       "                                       max_features=None, max_leaf_nodes=None,\n",
       "                                       min_impurity_decrease=0.0,\n",
       "                                       min_impurity_split=None,\n",
       "                                       min_samples_leaf=1, min_samples_split=2,\n",
       "                                       min_weight_fraction_leaf=0.0,\n",
       "                                       presort='deprecated', random_state=None,\n",
       "                                       splitter='best'),\n",
       "      min_features_to_select=1, n_jobs=-1, scoring='roc_auc', step=1,\n",
       "      verbose=2)"
      ]
     },
     "execution_count": 408,
     "metadata": {},
     "output_type": "execute_result"
    }
   ],
   "source": [
    "selector.fit(X_train_resampled, y_train_resampled)"
   ]
  },
  {
   "cell_type": "code",
   "execution_count": 454,
   "metadata": {},
   "outputs": [],
   "source": [
    "best_dtc = selector.estimator_"
   ]
  },
  {
   "cell_type": "code",
   "execution_count": 456,
   "metadata": {},
   "outputs": [
    {
     "data": {
      "text/plain": [
       "2"
      ]
     },
     "execution_count": 456,
     "metadata": {},
     "output_type": "execute_result"
    }
   ],
   "source": [
    "np.sum(selector.support_)"
   ]
  },
  {
   "cell_type": "code",
   "execution_count": 450,
   "metadata": {},
   "outputs": [
    {
     "data": {
      "text/plain": [
       "-1    41081\n",
       " 1    41081\n",
       "Name: target, dtype: int64"
      ]
     },
     "execution_count": 450,
     "metadata": {},
     "output_type": "execute_result"
    }
   ],
   "source": [
    "X_rec_selected = X_cleaned.loc[:,selector.support_]\n",
    "\n",
    "from sklearn.model_selection import train_test_split\n",
    "from imblearn.over_sampling import RandomOverSampler\n",
    "from sklearn import preprocessing\n",
    "X_train, X_test, y_train, y_test = train_test_split(X_rec_selected, y_cleaned, test_size=0.33)\n",
    "\n",
    "scaler = preprocessing.StandardScaler().fit(X_train)\n",
    "X_train = scaler.transform(X_train)\n",
    "X_test = scaler.transform(X_test)\n",
    "\n",
    "ros = RandomOverSampler()\n",
    "X_train_resampled, y_train_resampled = ros.fit_resample(X_train, y_train)\n",
    "\n",
    "y_resampled.value_counts()"
   ]
  },
  {
   "cell_type": "code",
   "execution_count": 451,
   "metadata": {},
   "outputs": [
    {
     "data": {
      "text/plain": [
       "DecisionTreeClassifier(ccp_alpha=0.0, class_weight=None, criterion='gini',\n",
       "                       max_depth=None, max_features=None, max_leaf_nodes=None,\n",
       "                       min_impurity_decrease=0.0, min_impurity_split=None,\n",
       "                       min_samples_leaf=1, min_samples_split=2,\n",
       "                       min_weight_fraction_leaf=0.0, presort='deprecated',\n",
       "                       random_state=None, splitter='best')"
      ]
     },
     "execution_count": 451,
     "metadata": {},
     "output_type": "execute_result"
    }
   ],
   "source": [
    "best_dtc.fit(X_train_resampled, y_train_resampled)"
   ]
  },
  {
   "cell_type": "code",
   "execution_count": 452,
   "metadata": {},
   "outputs": [],
   "source": [
    "y_score = best_dtc.predict_proba(X_test)"
   ]
  },
  {
   "cell_type": "markdown",
   "metadata": {},
   "source": [
    "As in the case of logistic regression, even using the best subset of the features, the model is unable to predict the churners very well. In fact, this does worse than LR. Now I move to an ensemble of decision trees to see if we are able to improve on this AUC."
   ]
  },
  {
   "cell_type": "code",
   "execution_count": 457,
   "metadata": {},
   "outputs": [
    {
     "data": {
      "text/plain": [
       "{'lr_base': 0.6830897864587152,\n",
       " 'lr_l1': 0.6834516385090893,\n",
       " 'lr_l1_bal': 0.6818696449199652,\n",
       " 'lr_l1_bal_ranked': 0.6784641983773252,\n",
       " 'lr_l2_bal_subset_ensemble': 0.6862984651553279,\n",
       " 'dt_base': 0.4805709793973624,\n",
       " 'dt_bal_ensemble': 0.5316994157650655,\n",
       " 'dt_bal_subset': 0.5058750204227277}"
      ]
     },
     "execution_count": 457,
     "metadata": {},
     "output_type": "execute_result"
    }
   ],
   "source": [
    "auc_dict['dt_bal_subset'] = roc_auc_score(y_test, y_score[:,1])\n",
    "auc_dict"
   ]
  },
  {
   "cell_type": "markdown",
   "metadata": {},
   "source": [
    "## Boosted Decision Tree\n",
    "I will start with a boosted decision tree ensemble."
   ]
  },
  {
   "cell_type": "code",
   "execution_count": 458,
   "metadata": {},
   "outputs": [],
   "source": [
    "from sklearn.ensemble import AdaBoostClassifier"
   ]
  },
  {
   "cell_type": "code",
   "execution_count": 459,
   "metadata": {},
   "outputs": [],
   "source": [
    "abct = AdaBoostClassifier(DecisionTreeClassifier(criterion='gini', splitter = 'best'), n_estimators=100)"
   ]
  },
  {
   "cell_type": "code",
   "execution_count": 469,
   "metadata": {},
   "outputs": [
    {
     "data": {
      "text/plain": [
       "-1    41081\n",
       " 1    41081\n",
       "Name: target, dtype: int64"
      ]
     },
     "execution_count": 469,
     "metadata": {},
     "output_type": "execute_result"
    }
   ],
   "source": [
    "X_rec_selected = X_cleaned.loc[:,selector.support_]\n",
    "\n",
    "from sklearn.model_selection import train_test_split\n",
    "from imblearn.over_sampling import RandomOverSampler\n",
    "from sklearn import preprocessing\n",
    "X_train, X_test, y_train, y_test = train_test_split(X_cleaned, y_cleaned, test_size=0.33)\n",
    "\n",
    "scaler = preprocessing.StandardScaler().fit(X_train)\n",
    "X_train = scaler.transform(X_train)\n",
    "X_test = scaler.transform(X_test)\n",
    "\n",
    "ros = RandomOverSampler()\n",
    "X_train_resampled, y_train_resampled = ros.fit_resample(X_train, y_train)\n",
    "\n",
    "y_resampled.value_counts()"
   ]
  },
  {
   "cell_type": "code",
   "execution_count": 470,
   "metadata": {},
   "outputs": [],
   "source": [
    "abct.fit(X_train_resampled, y_train_resampled)\n",
    "y_score = abct.predict_proba(X_test)"
   ]
  },
  {
   "cell_type": "code",
   "execution_count": 472,
   "metadata": {},
   "outputs": [
    {
     "data": {
      "text/plain": [
       "{'lr_base': 0.6830897864587152,\n",
       " 'lr_l1': 0.6834516385090893,\n",
       " 'lr_l1_bal': 0.6818696449199652,\n",
       " 'lr_l1_bal_ranked': 0.6784641983773252,\n",
       " 'lr_l2_bal_subset_ensemble': 0.6862984651553279,\n",
       " 'dt_base': 0.4805709793973624,\n",
       " 'dt_bal_ensemble': 0.5351049387496639,\n",
       " 'dt_bal_subset': 0.5058750204227277,\n",
       " 'dt_bal_subset_ensemble': 0.5351049387496639}"
      ]
     },
     "execution_count": 472,
     "metadata": {},
     "output_type": "execute_result"
    }
   ],
   "source": [
    "auc_dict['dt_bal_ensemble'] = roc_auc_score(y_test, y_score[:,1])\n",
    "auc_dict"
   ]
  },
  {
   "cell_type": "markdown",
   "metadata": {},
   "source": [
    "## Bagged Decision Tree\n",
    "Here I am using a combination of 200 decision tree each trained on a bootstrapped sample of the dataset"
   ]
  },
  {
   "cell_type": "code",
   "execution_count": 473,
   "metadata": {},
   "outputs": [],
   "source": [
    "from sklearn.ensemble import BaggingClassifier"
   ]
  },
  {
   "cell_type": "code",
   "execution_count": 480,
   "metadata": {},
   "outputs": [],
   "source": [
    "bc = BaggingClassifier(DecisionTreeClassifier(criterion='gini', splitter='best'), n_estimators=200)"
   ]
  },
  {
   "cell_type": "code",
   "execution_count": 481,
   "metadata": {},
   "outputs": [
    {
     "data": {
      "text/plain": [
       "BaggingClassifier(base_estimator=DecisionTreeClassifier(ccp_alpha=0.0,\n",
       "                                                        class_weight=None,\n",
       "                                                        criterion='gini',\n",
       "                                                        max_depth=None,\n",
       "                                                        max_features=None,\n",
       "                                                        max_leaf_nodes=None,\n",
       "                                                        min_impurity_decrease=0.0,\n",
       "                                                        min_impurity_split=None,\n",
       "                                                        min_samples_leaf=1,\n",
       "                                                        min_samples_split=2,\n",
       "                                                        min_weight_fraction_leaf=0.0,\n",
       "                                                        presort='deprecated',\n",
       "                                                        random_state=None,\n",
       "                                                        splitter='best'),\n",
       "                  bootstrap=True, bootstrap_features=False, max_features=1.0,\n",
       "                  max_samples=1.0, n_estimators=200, n_jobs=None,\n",
       "                  oob_score=False, random_state=None, verbose=0,\n",
       "                  warm_start=False)"
      ]
     },
     "execution_count": 481,
     "metadata": {},
     "output_type": "execute_result"
    }
   ],
   "source": [
    "bc.fit(X_train, y_train)"
   ]
  },
  {
   "cell_type": "code",
   "execution_count": 482,
   "metadata": {},
   "outputs": [],
   "source": [
    "y_score = bc.predict_proba(X_test)"
   ]
  },
  {
   "cell_type": "markdown",
   "metadata": {},
   "source": [
    "This has done a much better job than the previous tree methods suggesting variance was the main issue before. But it has still only achieve a AUC equivalent to the logistic regression methods.\n",
    "\n",
    "Maybe using a random forest to further randomise the ensemble of trees may help"
   ]
  },
  {
   "cell_type": "code",
   "execution_count": 483,
   "metadata": {},
   "outputs": [
    {
     "data": {
      "text/plain": [
       "{'lr_base': 0.6830897864587152,\n",
       " 'lr_l1': 0.6834516385090893,\n",
       " 'lr_l1_bal': 0.6818696449199652,\n",
       " 'lr_l1_bal_ranked': 0.6784641983773252,\n",
       " 'lr_l2_bal_subset_ensemble': 0.6862984651553279,\n",
       " 'dt_base': 0.4805709793973624,\n",
       " 'dt_bal_ensemble': 0.5351049387496639,\n",
       " 'dt_bal_subset': 0.5058750204227277,\n",
       " 'dt_bal_subset_ensemble': 0.5351049387496639,\n",
       " 'dt_bag': 0.6871110719183008}"
      ]
     },
     "execution_count": 483,
     "metadata": {},
     "output_type": "execute_result"
    }
   ],
   "source": [
    "auc_dict['dt_bag'] = roc_auc_score(y_test, y_score[:,1])\n",
    "auc_dict"
   ]
  },
  {
   "cell_type": "markdown",
   "metadata": {},
   "source": [
    "## Random Forest \n",
    "Here I try using a random forest which is essentially the same as a bagged ensemble of decision trees except that random forest try to decrease variance by selecting a random subset of the features to consider for split candidates at each node of the trees as well as using bootstrapped datasets for each tree."
   ]
  },
  {
   "cell_type": "code",
   "execution_count": 484,
   "metadata": {},
   "outputs": [],
   "source": [
    "from sklearn.ensemble import RandomForestClassifier"
   ]
  },
  {
   "cell_type": "code",
   "execution_count": 546,
   "metadata": {},
   "outputs": [],
   "source": [
    "rf = RandomForestClassifier(criterion='entropy', n_estimators=400)"
   ]
  },
  {
   "cell_type": "code",
   "execution_count": 563,
   "metadata": {},
   "outputs": [
    {
     "data": {
      "text/plain": [
       "-1    41081\n",
       " 1    41081\n",
       "Name: target, dtype: int64"
      ]
     },
     "execution_count": 563,
     "metadata": {},
     "output_type": "execute_result"
    }
   ],
   "source": [
    "from sklearn.model_selection import train_test_split\n",
    "from imblearn.over_sampling import RandomOverSampler\n",
    "from sklearn import preprocessing\n",
    "X_train, X_test, y_train, y_test = train_test_split(X_cleaned[ranked_feature_names[1:160]], y_cleaned, test_size=0.33)\n",
    "\n",
    "scaler = preprocessing.StandardScaler().fit(X_train)\n",
    "X_train = scaler.transform(X_train)\n",
    "X_test = scaler.transform(X_test)\n",
    "\n",
    "ros = RandomOverSampler()\n",
    "X_train_resampled, y_train_resampled = ros.fit_resample(X_train, y_train)\n",
    "\n",
    "y_resampled.value_counts()"
   ]
  },
  {
   "cell_type": "code",
   "execution_count": 564,
   "metadata": {},
   "outputs": [
    {
     "data": {
      "text/plain": [
       "RandomForestClassifier(bootstrap=True, ccp_alpha=0.0, class_weight=None,\n",
       "                       criterion='entropy', max_depth=None, max_features='auto',\n",
       "                       max_leaf_nodes=None, max_samples=None,\n",
       "                       min_impurity_decrease=0.0, min_impurity_split=None,\n",
       "                       min_samples_leaf=1, min_samples_split=2,\n",
       "                       min_weight_fraction_leaf=0.0, n_estimators=400,\n",
       "                       n_jobs=None, oob_score=False, random_state=None,\n",
       "                       verbose=0, warm_start=False)"
      ]
     },
     "execution_count": 564,
     "metadata": {},
     "output_type": "execute_result"
    }
   ],
   "source": [
    "rf.fit(X_train_resampled, y_train_resampled)"
   ]
  },
  {
   "cell_type": "code",
   "execution_count": 565,
   "metadata": {},
   "outputs": [],
   "source": [
    "y_score = rf.predict_proba(X_test)"
   ]
  },
  {
   "cell_type": "markdown",
   "metadata": {},
   "source": [
    "After some experimenting with various parameters I have been able to achieve a AUC of 0.71. It should be noted that I used my variable ranking from earlier and only used the top 158 features as determined my the correlation value. \n",
    "\n",
    "So far this is the best result"
   ]
  },
  {
   "cell_type": "code",
   "execution_count": 566,
   "metadata": {},
   "outputs": [
    {
     "data": {
      "text/plain": [
       "{'lr_base': 0.6830897864587152,\n",
       " 'lr_l1': 0.6834516385090893,\n",
       " 'lr_l1_bal': 0.6818696449199652,\n",
       " 'lr_l1_bal_ranked': 0.6784641983773252,\n",
       " 'lr_l2_bal_subset_ensemble': 0.6862984651553279,\n",
       " 'dt_base': 0.4805709793973624,\n",
       " 'dt_bal_ensemble': 0.5351049387496639,\n",
       " 'dt_bal_subset': 0.5058750204227277,\n",
       " 'dt_bal_subset_ensemble': 0.5351049387496639,\n",
       " 'dt_bag': 0.6871110719183008,\n",
       " 'dt_rf': 0.7080586310997388}"
      ]
     },
     "execution_count": 566,
     "metadata": {},
     "output_type": "execute_result"
    }
   ],
   "source": [
    "auc_dict['dt_rf'] = roc_auc_score(y_test, y_score[:,1])\n",
    "auc_dict"
   ]
  },
  {
   "cell_type": "code",
   "execution_count": 568,
   "metadata": {},
   "outputs": [
    {
     "data": {
      "image/png": "[encoded data removed]",
      "text/plain": [
       "<Figure size 720x576 with 1 Axes>"
      ]
     },
     "metadata": {
      "needs_background": "light"
     },
     "output_type": "display_data"
    }
   ],
   "source": [
    "fig, ax = plt.subplots(figsize=(10,8))\n",
    "plot6 = plot_roc_curve(rf, X_test, y_test, ax=ax, name=\"rf_rank_bal\")\n",
    "plot.plot(ax=ax)\n",
    "plot2.plot(ax=ax)\n",
    "plot3.plot(ax=ax)\n",
    "plot4.plot(ax=ax)\n",
    "plot5.plot(ax=ax)\n",
    "plt.grid(which='both')\n",
    "plt.show()"
   ]
  },
  {
   "cell_type": "markdown",
   "metadata": {},
   "source": [
    "## Ensemble of Ensembles - Adaboosted LR and random forest\n",
    "Here I am going to try constructing an ensemble of the best methods that i have tried so far and see if the combined predictive power of these together is better than each of them alone.\n",
    "\n",
    "First I will try try the boosted logistic regression and random forest together"
   ]
  },
  {
   "cell_type": "code",
   "execution_count": 569,
   "metadata": {},
   "outputs": [],
   "source": [
    "from sklearn.ensemble import VotingClassifier"
   ]
  },
  {
   "cell_type": "code",
   "execution_count": 578,
   "metadata": {},
   "outputs": [],
   "source": [
    "vc = VotingClassifier(estimators=[('abc_lr', abc), ('rf', rf)], voting='soft', n_jobs=-1)"
   ]
  },
  {
   "cell_type": "code",
   "execution_count": 590,
   "metadata": {},
   "outputs": [
    {
     "data": {
      "text/plain": [
       "-1    41081\n",
       " 1    41081\n",
       "Name: target, dtype: int64"
      ]
     },
     "execution_count": 590,
     "metadata": {},
     "output_type": "execute_result"
    }
   ],
   "source": [
    "from sklearn.model_selection import train_test_split\n",
    "from imblearn.over_sampling import RandomOverSampler\n",
    "from sklearn import preprocessing\n",
    "X_train, X_test, y_train, y_test = train_test_split(X_cleaned[ranked_feature_names[1:140]], y_cleaned, test_size=0.33)\n",
    "\n",
    "scaler = preprocessing.StandardScaler().fit(X_train)\n",
    "X_train = scaler.transform(X_train)\n",
    "X_test = scaler.transform(X_test)\n",
    "\n",
    "ros = RandomOverSampler()\n",
    "X_train_resampled, y_train_resampled = ros.fit_resample(X_train, y_train)\n",
    "\n",
    "y_resampled.value_counts()"
   ]
  },
  {
   "cell_type": "code",
   "execution_count": 591,
   "metadata": {},
   "outputs": [
    {
     "data": {
      "text/plain": [
       "VotingClassifier(estimators=[('abc_lr',\n",
       "                              AdaBoostClassifier(algorithm='SAMME.R',\n",
       "                                                 base_estimator=LogisticRegression(C=1.0,\n",
       "                                                                                   class_weight=None,\n",
       "                                                                                   dual=False,\n",
       "                                                                                   fit_intercept=True,\n",
       "                                                                                   intercept_scaling=1,\n",
       "                                                                                   l1_ratio=None,\n",
       "                                                                                   max_iter=200,\n",
       "                                                                                   multi_class='auto',\n",
       "                                                                                   n_jobs=None,\n",
       "                                                                                   penalty='l2',\n",
       "                                                                                   random_state=None,\n",
       "                                                                                   solver='newton-cg',\n",
       "                                                                                   tol=0.0001,\n",
       "                                                                                   verbose=0,\n",
       "                                                                                   warm_start=False),\n",
       "                                                 learning_rate=1.0...\n",
       "                                                     criterion='entropy',\n",
       "                                                     max_depth=None,\n",
       "                                                     max_features='auto',\n",
       "                                                     max_leaf_nodes=None,\n",
       "                                                     max_samples=None,\n",
       "                                                     min_impurity_decrease=0.0,\n",
       "                                                     min_impurity_split=None,\n",
       "                                                     min_samples_leaf=1,\n",
       "                                                     min_samples_split=2,\n",
       "                                                     min_weight_fraction_leaf=0.0,\n",
       "                                                     n_estimators=400,\n",
       "                                                     n_jobs=None,\n",
       "                                                     oob_score=False,\n",
       "                                                     random_state=None,\n",
       "                                                     verbose=0,\n",
       "                                                     warm_start=False))],\n",
       "                 flatten_transform=True, n_jobs=-1, voting='soft',\n",
       "                 weights=None)"
      ]
     },
     "execution_count": 591,
     "metadata": {},
     "output_type": "execute_result"
    }
   ],
   "source": [
    "vc.fit(X_train_resampled, y_train_resampled)"
   ]
  },
  {
   "cell_type": "code",
   "execution_count": 592,
   "metadata": {},
   "outputs": [],
   "source": [
    "y_score = vc.predict_proba(X_test)"
   ]
  },
  {
   "cell_type": "markdown",
   "metadata": {},
   "source": [
    "There is actually a slight improvement with using them together meaning they must be correcting each other on some of the observations. Because I have used 'soft' as the voting scheme, the predicted class is the one with the highest summed predicted probability. So if on one observation the LR is not sure so outputs a probability of 0.5 for class 1, but the random forest is sure and outputs 0.8, its confidence means that class 1 gets predicted. In this way they can correct each other.\n",
    "\n",
    "Again after some experimentation I found that using the first 138 features from my ranking scheme gave the best AUC."
   ]
  },
  {
   "cell_type": "code",
   "execution_count": 594,
   "metadata": {},
   "outputs": [
    {
     "data": {
      "text/plain": [
       "{'lr_base': 0.6830897864587152,\n",
       " 'lr_l1': 0.6834516385090893,\n",
       " 'lr_l1_bal': 0.6818696449199652,\n",
       " 'lr_l1_bal_ranked': 0.6784641983773252,\n",
       " 'lr_l2_bal_subset_ensemble': 0.6862984651553279,\n",
       " 'dt_base': 0.4805709793973624,\n",
       " 'dt_bal_ensemble': 0.5351049387496639,\n",
       " 'dt_bal_subset': 0.5058750204227277,\n",
       " 'dt_bal_subset_ensemble': 0.5351049387496639,\n",
       " 'dt_bag': 0.6871110719183008,\n",
       " 'dt_rf': 0.7080586310997388,\n",
       " 'lr_rf_bal_sub': 0.7141885795531567}"
      ]
     },
     "execution_count": 594,
     "metadata": {},
     "output_type": "execute_result"
    }
   ],
   "source": [
    "auc_dict['lr_rf_bal_sub'] = roc_auc_score(y_test, y_score[:,1])\n",
    "auc_dict"
   ]
  },
  {
   "cell_type": "code",
   "execution_count": 595,
   "metadata": {},
   "outputs": [
    {
     "data": {
      "image/png": "[encoded data removed]",
      "text/plain": [
       "<Figure size 720x576 with 1 Axes>"
      ]
     },
     "metadata": {
      "needs_background": "light"
     },
     "output_type": "display_data"
    }
   ],
   "source": [
    "fig, ax = plt.subplots(figsize=(10,8))\n",
    "plot7 = plot_roc_curve(vc, X_test, y_test, ax=ax, name=\"vc_ablr_rf_bal_rank\")\n",
    "plot.plot(ax=ax)\n",
    "plot2.plot(ax=ax)\n",
    "plot3.plot(ax=ax)\n",
    "plot4.plot(ax=ax)\n",
    "plot5.plot(ax=ax)\n",
    "plot6.plot(ax=ax)\n",
    "plt.grid(which='both')\n",
    "plt.show()"
   ]
  },
  {
   "cell_type": "markdown",
   "metadata": {},
   "source": [
    "## Ensemble of Ensembles - Adaboosted LR, random forest, bagged forest\n",
    "Now let's try including the bagged decision trees as this achieve an AUC of 0.69"
   ]
  },
  {
   "cell_type": "code",
   "execution_count": 596,
   "metadata": {},
   "outputs": [],
   "source": [
    "vc2 = VotingClassifier(estimators=[('abc_lr', abc), ('rf', rf), ('bf', bc)], voting='soft', n_jobs=-1)"
   ]
  },
  {
   "cell_type": "code",
   "execution_count": 605,
   "metadata": {},
   "outputs": [
    {
     "data": {
      "text/plain": [
       "-1    41081\n",
       " 1    41081\n",
       "Name: target, dtype: int64"
      ]
     },
     "execution_count": 605,
     "metadata": {},
     "output_type": "execute_result"
    }
   ],
   "source": [
    "from sklearn.model_selection import train_test_split\n",
    "from imblearn.over_sampling import RandomOverSampler\n",
    "from sklearn import preprocessing\n",
    "X_train, X_test, y_train, y_test = train_test_split(X_cleaned[ranked_feature_names[1:200]], y_cleaned, test_size=0.33)\n",
    "\n",
    "scaler = preprocessing.StandardScaler().fit(X_train)\n",
    "X_train = scaler.transform(X_train)\n",
    "X_test = scaler.transform(X_test)\n",
    "\n",
    "ros = RandomOverSampler()\n",
    "X_train_resampled, y_train_resampled = ros.fit_resample(X_train, y_train)\n",
    "\n",
    "y_resampled.value_counts()"
   ]
  },
  {
   "cell_type": "code",
   "execution_count": 606,
   "metadata": {},
   "outputs": [
    {
     "data": {
      "text/plain": [
       "VotingClassifier(estimators=[('abc_lr',\n",
       "                              AdaBoostClassifier(algorithm='SAMME.R',\n",
       "                                                 base_estimator=LogisticRegression(C=1.0,\n",
       "                                                                                   class_weight=None,\n",
       "                                                                                   dual=False,\n",
       "                                                                                   fit_intercept=True,\n",
       "                                                                                   intercept_scaling=1,\n",
       "                                                                                   l1_ratio=None,\n",
       "                                                                                   max_iter=200,\n",
       "                                                                                   multi_class='auto',\n",
       "                                                                                   n_jobs=None,\n",
       "                                                                                   penalty='l2',\n",
       "                                                                                   random_state=None,\n",
       "                                                                                   solver='newton-cg',\n",
       "                                                                                   tol=0.0001,\n",
       "                                                                                   verbose=0,\n",
       "                                                                                   warm_start=False),\n",
       "                                                 learning_rate=1.0...\n",
       "                                                                                      min_samples_leaf=1,\n",
       "                                                                                      min_samples_split=2,\n",
       "                                                                                      min_weight_fraction_leaf=0.0,\n",
       "                                                                                      presort='deprecated',\n",
       "                                                                                      random_state=None,\n",
       "                                                                                      splitter='best'),\n",
       "                                                bootstrap=True,\n",
       "                                                bootstrap_features=False,\n",
       "                                                max_features=1.0,\n",
       "                                                max_samples=1.0,\n",
       "                                                n_estimators=200, n_jobs=None,\n",
       "                                                oob_score=False,\n",
       "                                                random_state=None, verbose=0,\n",
       "                                                warm_start=False))],\n",
       "                 flatten_transform=True, n_jobs=-1, voting='soft',\n",
       "                 weights=None)"
      ]
     },
     "execution_count": 606,
     "metadata": {},
     "output_type": "execute_result"
    }
   ],
   "source": [
    "vc2.fit(X_train_resampled, y_train_resampled)"
   ]
  },
  {
   "cell_type": "code",
   "execution_count": 609,
   "metadata": {},
   "outputs": [],
   "source": [
    "y_score = vc2.predict_proba(X_test)"
   ]
  },
  {
   "cell_type": "markdown",
   "metadata": {},
   "source": [
    "Adding the bagged forest has not helped here, this combined model performs about as well as a random forest."
   ]
  },
  {
   "cell_type": "code",
   "execution_count": 608,
   "metadata": {},
   "outputs": [
    {
     "data": {
      "text/plain": [
       "{'lr_base': 0.6830897864587152,\n",
       " 'lr_l1': 0.6834516385090893,\n",
       " 'lr_l1_bal': 0.6818696449199652,\n",
       " 'lr_l1_bal_ranked': 0.6784641983773252,\n",
       " 'lr_l2_bal_subset_ensemble': 0.6862984651553279,\n",
       " 'dt_base': 0.4805709793973624,\n",
       " 'dt_bal_ensemble': 0.5351049387496639,\n",
       " 'dt_bal_subset': 0.5058750204227277,\n",
       " 'dt_bal_subset_ensemble': 0.5351049387496639,\n",
       " 'dt_bag': 0.6871110719183008,\n",
       " 'dt_rf': 0.7080586310997388,\n",
       " 'lr_rf_bal_sub': 0.7141885795531567,\n",
       " 'ablr_rf_bf_bal_rank': 0.6998340500707239}"
      ]
     },
     "execution_count": 608,
     "metadata": {},
     "output_type": "execute_result"
    }
   ],
   "source": [
    "auc_dict['ablr_rf_bf_bal_rank'] = roc_auc_score(y_test, y_score[:,1])\n",
    "auc_dict"
   ]
  },
  {
   "cell_type": "code",
   "execution_count": null,
   "metadata": {},
   "outputs": [],
   "source": []
  }
 ],
 "metadata": {
  "kernelspec": {
   "display_name": "cust_churn",
   "language": "python",
   "name": "cust_churn"
  },
  "language_info": {
   "codemirror_mode": {
    "name": "ipython",
    "version": 3
   },
   "file_extension": ".py",
   "mimetype": "text/x-python",
   "name": "python",
   "nbconvert_exporter": "python",
   "pygments_lexer": "ipython3",
   "version": "3.6.10"
  }
 },
 "nbformat": 4,
 "nbformat_minor": 4
}
